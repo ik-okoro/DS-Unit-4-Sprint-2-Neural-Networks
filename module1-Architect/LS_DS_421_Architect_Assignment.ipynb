{
  "nbformat": 4,
  "nbformat_minor": 0,
  "metadata": {
    "colab": {
      "name": "Ik Okoro LS_DS_421_TensorFlow_Assignment",
      "provenance": [],
      "collapsed_sections": [],
      "include_colab_link": true
    },
    "kernelspec": {
      "name": "python3",
      "display_name": "Python 3"
    },
    "accelerator": "GPU"
  },
  "cells": [
    {
      "cell_type": "markdown",
      "metadata": {
        "id": "view-in-github",
        "colab_type": "text"
      },
      "source": [
        "<a href=\"https://colab.research.google.com/github/ik-okoro/DS-Unit-4-Sprint-2-Neural-Networks/blob/main/module1-Architect/LS_DS_421_Architect_Assignment.ipynb\" target=\"_parent\"><img src=\"https://colab.research.google.com/assets/colab-badge.svg\" alt=\"Open In Colab\"/></a>"
      ]
    },
    {
      "cell_type": "markdown",
      "metadata": {
        "id": "ObyHCH8HvHSf"
      },
      "source": [
        "<img align=\"left\" src=\"https://lever-client-logos.s3.amazonaws.com/864372b1-534c-480e-acd5-9711f850815c-1524247202159.png\" width=200>\n",
        "<br></br>\n",
        "<br></br>\n",
        "\n",
        "# *Data Science Unit 4 Sprint 2 Assignment 1*\n",
        "\n",
        "Use TensorFlow Keras & a sample of the [Quickdraw dataset](https://github.com/googlecreativelab/quickdraw-dataset) to build a sketch classification model. The dataset has been sampled to only 10 classes and 10000 observations per class. Please build a baseline classification model then run a few experiments with different optimizers and learning rates. \n",
        "\n",
        "*Don't forgot to switch to GPU on Colab!*"
      ]
    },
    {
      "cell_type": "markdown",
      "metadata": {
        "id": "s-Tc3ovEyQ9b"
      },
      "source": [
        "## Load Your Data"
      ]
    },
    {
      "cell_type": "code",
      "metadata": {
        "colab": {
          "resources": {
            "http://localhost:8080/nbextensions/google.colab/files.js": {
              "data": "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",
              "ok": true,
              "headers": [
                [
                  "content-type",
                  "application/javascript"
                ]
              ],
              "status": 200,
              "status_text": ""
            }
          },
          "base_uri": "https://localhost:8080/",
          "height": 73
        },
        "id": "b2fJPfOJKsvl",
        "outputId": "77d315aa-edbb-4428-a2a6-56003f5f96f8"
      },
      "source": [
        "from google.colab import files\n",
        "uploaded = files.upload()"
      ],
      "execution_count": 1,
      "outputs": [
        {
          "output_type": "display_data",
          "data": {
            "text/html": [
              "\n",
              "     <input type=\"file\" id=\"files-66121405-a61c-4ea5-a09d-98e6ca9fcac5\" name=\"files[]\" multiple disabled\n",
              "        style=\"border:none\" />\n",
              "     <output id=\"result-66121405-a61c-4ea5-a09d-98e6ca9fcac5\">\n",
              "      Upload widget is only available when the cell has been executed in the\n",
              "      current browser session. Please rerun this cell to enable.\n",
              "      </output>\n",
              "      <script src=\"/nbextensions/google.colab/files.js\"></script> "
            ],
            "text/plain": [
              "<IPython.core.display.HTML object>"
            ]
          },
          "metadata": {
            "tags": []
          }
        },
        {
          "output_type": "stream",
          "text": [
            "Saving quickdraw10.npz to quickdraw10.npz\n"
          ],
          "name": "stdout"
        }
      ]
    },
    {
      "cell_type": "code",
      "metadata": {
        "id": "CkU0pAYCvU8o",
        "colab": {
          "base_uri": "https://localhost:8080/"
        },
        "outputId": "c8eadc20-19b3-41a1-c786-6db9846ce96d"
      },
      "source": [
        "import numpy as np\n",
        "import tensorflow as tf \n",
        "\n",
        "data = np.load('quickdraw10.npz')\n",
        "X = data['arr_0']\n",
        "y = data['arr_1']\n",
        "\n",
        "print(X.shape)\n",
        "print(y.shape)"
      ],
      "execution_count": 2,
      "outputs": [
        {
          "output_type": "stream",
          "text": [
            "(100000, 784)\n",
            "(100000,)\n"
          ],
          "name": "stdout"
        }
      ]
    },
    {
      "cell_type": "code",
      "metadata": {
        "id": "c8qsDqdqvHDd"
      },
      "source": [
        "class_names = ['apple',\n",
        " 'anvil',\n",
        " 'airplane',\n",
        " 'banana',\n",
        " 'The Eiffel Tower',\n",
        " 'The Mona Lisa',\n",
        " 'The Great Wall of China',\n",
        " 'alarm clock',\n",
        " 'ant',\n",
        " 'asparagus']"
      ],
      "execution_count": 7,
      "outputs": []
    },
    {
      "cell_type": "code",
      "metadata": {
        "id": "Owbm1EbxvA5A",
        "colab": {
          "base_uri": "https://localhost:8080/",
          "height": 289
        },
        "outputId": "1b55b081-1951-4aa2-8f13-30a3c8c40d5e"
      },
      "source": [
        "import matplotlib.pyplot as plt\n",
        "plt.figure(figsize=(10,5))\n",
        "start = 0\n",
        "\n",
        "for num, name in enumerate(class_names):\n",
        "    plt.subplot(2,5, num+1)\n",
        "    plt.xticks([])\n",
        "    plt.yticks([])\n",
        "    plt.grid(False)\n",
        "    plt.imshow(X[start].reshape(28,28), cmap=plt.cm.binary)\n",
        "    plt.xlabel(name)\n",
        "    start += 10000\n",
        "plt.show()"
      ],
      "execution_count": 8,
      "outputs": [
        {
          "output_type": "display_data",
          "data": {
            "image/png": "[encoded data removed]",
            "text/plain": [
              "<Figure size 720x360 with 10 Axes>"
            ]
          },
          "metadata": {
            "tags": []
          }
        }
      ]
    },
    {
      "cell_type": "code",
      "metadata": {
        "id": "c97_M1WNvTNY"
      },
      "source": [
        "# Need this line to randomly shuffle both the X & y at the same time.\n",
        "\n",
        "from sklearn.utils import shuffle\n",
        "X, y = shuffle(X, y)"
      ],
      "execution_count": 9,
      "outputs": []
    },
    {
      "cell_type": "markdown",
      "metadata": {
        "id": "jb70CbLVyK65"
      },
      "source": [
        "## Build Your Baseline Model\n",
        "Some Hints:\n",
        "\n",
        "\n",
        "*  Model should have 784 input values (like mnist)\n",
        "*  Use `sparse_categorical_crossentropy` as your loss function.\n",
        "* You need 10 neurons in your last layer for output\n",
        "* You can add as many hidden layers with as many neurons in them as you like. \n",
        "* Limit your model epochs to 30 each time you fit.\n",
        "* You can use the `validation_split` command to automatically create a training / validation dataset.  Specify a percentage such as .2 in your fit statement. \n",
        "\n"
      ]
    },
    {
      "cell_type": "code",
      "metadata": {
        "id": "zHWblzsMyNkU"
      },
      "source": [
        "from tensorflow import keras\n",
        "from tensorflow.keras.datasets import mnist\n",
        "from tensorflow.keras.models import Sequential\n",
        "from tensorflow.keras.layers import Dense\n",
        "from sklearn.model_selection import train_test_split"
      ],
      "execution_count": 10,
      "outputs": []
    },
    {
      "cell_type": "code",
      "metadata": {
        "colab": {
          "base_uri": "https://localhost:8080/"
        },
        "id": "OWCos8olNPq2",
        "outputId": "4613dfef-64f6-4458-df4f-c7624279f56f"
      },
      "source": [
        "X[0]"
      ],
      "execution_count": 11,
      "outputs": [
        {
          "output_type": "execute_result",
          "data": {
            "text/plain": [
              "array([  0,   0,   0,   0,   0,   0,   0,   0,   0,   0,   0,   0,   0,\n",
              "         0,   0,   0,   0,   0,   0,   0,   0,   0,   0,   0,   0,   0,\n",
              "         0,   0,   0,   0,   0,   0,   0,   0,   0,   0,   0,   0,   0,\n",
              "         0,   0,   0,   0,   0,   0,   0,   0,   0,   0,   0,   0,   0,\n",
              "         0,   0,   0,   0,   0,   0,   0,   0,   0,   0,   0,   0,   0,\n",
              "         0,   0,   0,   0,   0,   0,   0,   0,   0,   0,   0,   0,   0,\n",
              "         0,   0,   0,   0,   0,   0,   0,   0,   0,   0,   0,   0,   0,\n",
              "         0,   0,   0,   0,   0,   0,   0,   0,   0,   0,   0,   0,   0,\n",
              "         0,   0,   0,   0,   0,   0,   0,   0,   0,   0,   0,   0,   0,\n",
              "         0,   0,   0,   0,   0,   0,   0,   0,   0,   0,   0,   0,   0,\n",
              "         0,   0,   0,   0,   0,   0,   0,   0,   0,   0,   0,   0,   0,\n",
              "         0,   0,   0,   0,   0,   0,   0,   0,   0,   0,   0,   0,   0,\n",
              "         0,   0,   0,   0,   0,   0,   0,   0,   0,   0,   0,   0,   0,\n",
              "         0,  19,  51,  51,  51,  51,  51,  29,   6,   0,   0,   0,   0,\n",
              "         0,   0,   0,   0,   0,   0,   0,   0,   0,   0,   0,   0,   0,\n",
              "         0,   0,   1, 214, 255, 255, 255, 255, 255, 255, 255, 232, 208,\n",
              "       180, 156, 129, 104,  77,  52,  26,  24,  34,  34,  34,  28,   0,\n",
              "         0,   0,   0,   0,  59, 255, 122,  68,  68,  68,  71,  93, 119,\n",
              "       145, 171, 196, 224, 248, 255, 255, 255, 255, 255, 255, 255, 255,\n",
              "       250,  55,   0,   0,   0,   0, 120, 254,   8,   0,   0,   0,   0,\n",
              "         0,   0,   0,   0,   0,   0,   7, 202, 255, 255, 255, 255, 255,\n",
              "       255, 168, 223, 180,   0,   0,   0,   0, 111, 255,  18,   0,   0,\n",
              "         0,   0,   0,   0,   0,   0,   0,   0, 125, 255, 254, 238, 232,\n",
              "       255, 220, 216, 179, 171, 206,   0,   0,   0,   0,  52, 255,  80,\n",
              "         0,   0,   0,   0,   0,   0,   0,   0,   0,   0, 213, 249, 255,\n",
              "       147, 226, 255, 242, 196, 183, 151, 227,   0,   0,   0,   0,   7,\n",
              "       255, 116,   0,   0,   0,   0,   0,   0,   0,   0,   0,  33, 255,\n",
              "       231, 197, 145, 250, 197,  93, 181, 241, 116, 254,  22,   0,   0,\n",
              "         0,   5, 255, 117,   0,   0,   0,   0,   0,   0,   0,   0,   0,\n",
              "        18, 187, 246, 255, 255, 255,  62,   0,  93, 251,  83, 255,  83,\n",
              "         0,   0,   0,   5, 255, 117,   0,   0,   0,   0,   0,   0,   0,\n",
              "         0,  51, 228, 255, 244, 255, 178, 255,  91,   0,   0,   7,   2,\n",
              "       237, 145,   0,   0,   0,   5, 255, 117,   0,   0,   0,   0,   0,\n",
              "         0,   0,   0, 195, 255, 255, 255, 240,  89, 255,  67,   0,   0,\n",
              "         0,   0, 179, 206,   0,   0,   0,   5, 255, 117,   0,   0,   0,\n",
              "         0,   0,   0,   0,  47, 254, 186, 137,  96,  26, 156, 245,   9,\n",
              "         0,   0,   0,   0, 134, 246,   2,   0,   0,   5, 255, 117,   0,\n",
              "         0,   0,   0,   0,   0,   0, 200, 255, 236, 137, 152, 230, 255,\n",
              "       137,   0,   0,   0,   0,   0,  97, 255,  28,   0,   0,   2, 246,\n",
              "       134,   5,  75, 131, 166, 164, 153, 146, 156, 230, 237, 243, 239,\n",
              "       167,  83,  69, 128, 160, 118,  69,  22,  60, 255,  66,   0,   0,\n",
              "         6, 240, 228, 234, 255, 248, 211, 216, 221, 234, 238, 252, 255,\n",
              "       255, 255, 255, 251, 255, 250, 223, 253, 255, 255, 237, 255, 103,\n",
              "         0,   0,  32, 254, 245, 162,  67,   3,   0,   0,   0,   0,   0,\n",
              "         0,  19,  52,  84, 116, 121,  63,   9,   0,  11,  57, 104, 152,\n",
              "       192,  65,   0,   0,   0,  38,  12,   0,   0,   0,   0,   0,   0,\n",
              "         0,   0,   0,   0,   0,   0,   0,   0,   0,   0,   0,   0,   0,\n",
              "         0,   0,   0,   0,   0,   0,   0,   0,   0,   0,   0,   0,   0,\n",
              "         0,   0,   0,   0,   0,   0,   0,   0,   0,   0,   0,   0,   0,\n",
              "         0,   0,   0,   0,   0,   0,   0,   0,   0,   0,   0,   0,   0,\n",
              "         0,   0,   0,   0,   0,   0,   0,   0,   0,   0,   0,   0,   0,\n",
              "         0,   0,   0,   0,   0,   0,   0,   0,   0,   0,   0,   0,   0,\n",
              "         0,   0,   0,   0,   0,   0,   0,   0,   0,   0,   0,   0,   0,\n",
              "         0,   0,   0,   0,   0,   0,   0,   0,   0,   0,   0,   0,   0,\n",
              "         0,   0,   0,   0,   0,   0,   0,   0,   0,   0,   0,   0,   0,\n",
              "         0,   0,   0,   0,   0,   0,   0,   0,   0,   0,   0,   0,   0,\n",
              "         0,   0,   0,   0,   0,   0,   0,   0,   0,   0,   0,   0,   0,\n",
              "         0,   0,   0,   0,   0,   0,   0,   0,   0,   0,   0,   0,   0,\n",
              "         0,   0,   0,   0,   0,   0,   0,   0,   0,   0,   0,   0,   0,\n",
              "         0,   0,   0,   0,   0,   0,   0,   0,   0,   0,   0,   0,   0,\n",
              "         0,   0,   0,   0], dtype=uint8)"
            ]
          },
          "metadata": {
            "tags": []
          },
          "execution_count": 11
        }
      ]
    },
    {
      "cell_type": "code",
      "metadata": {
        "id": "DdkDna1KP-O2"
      },
      "source": [
        "# Standardize\n",
        "X = X.astype(\"float32\") / 255"
      ],
      "execution_count": 12,
      "outputs": []
    },
    {
      "cell_type": "code",
      "metadata": {
        "colab": {
          "base_uri": "https://localhost:8080/"
        },
        "id": "aJcqVWPoNPmn",
        "outputId": "d73bf8bb-4077-4f6e-d034-16ea00c1268a"
      },
      "source": [
        "X[0]"
      ],
      "execution_count": 13,
      "outputs": [
        {
          "output_type": "execute_result",
          "data": {
            "text/plain": [
              "array([0.        , 0.        , 0.        , 0.        , 0.        ,\n",
              "       0.        , 0.        , 0.        , 0.        , 0.        ,\n",
              "       0.        , 0.        , 0.        , 0.        , 0.        ,\n",
              "       0.        , 0.        , 0.        , 0.        , 0.        ,\n",
              "       0.        , 0.        , 0.        , 0.        , 0.        ,\n",
              "       0.        , 0.        , 0.        , 0.        , 0.        ,\n",
              "       0.        , 0.        , 0.        , 0.        , 0.        ,\n",
              "       0.        , 0.        , 0.        , 0.        , 0.        ,\n",
              "       0.        , 0.        , 0.        , 0.        , 0.        ,\n",
              "       0.        , 0.        , 0.        , 0.        , 0.        ,\n",
              "       0.        , 0.        , 0.        , 0.        , 0.        ,\n",
              "       0.        , 0.        , 0.        , 0.        , 0.        ,\n",
              "       0.        , 0.        , 0.        , 0.        , 0.        ,\n",
              "       0.        , 0.        , 0.        , 0.        , 0.        ,\n",
              "       0.        , 0.        , 0.        , 0.        , 0.        ,\n",
              "       0.        , 0.        , 0.        , 0.        , 0.        ,\n",
              "       0.        , 0.        , 0.        , 0.        , 0.        ,\n",
              "       0.        , 0.        , 0.        , 0.        , 0.        ,\n",
              "       0.        , 0.        , 0.        , 0.        , 0.        ,\n",
              "       0.        , 0.        , 0.        , 0.        , 0.        ,\n",
              "       0.        , 0.        , 0.        , 0.        , 0.        ,\n",
              "       0.        , 0.        , 0.        , 0.        , 0.        ,\n",
              "       0.        , 0.        , 0.        , 0.        , 0.        ,\n",
              "       0.        , 0.        , 0.        , 0.        , 0.        ,\n",
              "       0.        , 0.        , 0.        , 0.        , 0.        ,\n",
              "       0.        , 0.        , 0.        , 0.        , 0.        ,\n",
              "       0.        , 0.        , 0.        , 0.        , 0.        ,\n",
              "       0.        , 0.        , 0.        , 0.        , 0.        ,\n",
              "       0.        , 0.        , 0.        , 0.        , 0.        ,\n",
              "       0.        , 0.        , 0.        , 0.        , 0.        ,\n",
              "       0.        , 0.        , 0.        , 0.        , 0.        ,\n",
              "       0.        , 0.        , 0.        , 0.        , 0.        ,\n",
              "       0.        , 0.        , 0.        , 0.        , 0.        ,\n",
              "       0.        , 0.        , 0.        , 0.        , 0.        ,\n",
              "       0.07450981, 0.2       , 0.2       , 0.2       , 0.2       ,\n",
              "       0.2       , 0.11372549, 0.02352941, 0.        , 0.        ,\n",
              "       0.        , 0.        , 0.        , 0.        , 0.        ,\n",
              "       0.        , 0.        , 0.        , 0.        , 0.        ,\n",
              "       0.        , 0.        , 0.        , 0.        , 0.        ,\n",
              "       0.        , 0.        , 0.00392157, 0.8392157 , 1.        ,\n",
              "       1.        , 1.        , 1.        , 1.        , 1.        ,\n",
              "       1.        , 0.9098039 , 0.8156863 , 0.7058824 , 0.6117647 ,\n",
              "       0.5058824 , 0.40784314, 0.3019608 , 0.20392157, 0.10196079,\n",
              "       0.09411765, 0.13333334, 0.13333334, 0.13333334, 0.10980392,\n",
              "       0.        , 0.        , 0.        , 0.        , 0.        ,\n",
              "       0.23137255, 1.        , 0.47843137, 0.26666668, 0.26666668,\n",
              "       0.26666668, 0.2784314 , 0.3647059 , 0.46666667, 0.5686275 ,\n",
              "       0.67058825, 0.76862746, 0.8784314 , 0.972549  , 1.        ,\n",
              "       1.        , 1.        , 1.        , 1.        , 1.        ,\n",
              "       1.        , 1.        , 0.98039216, 0.21568628, 0.        ,\n",
              "       0.        , 0.        , 0.        , 0.47058824, 0.99607843,\n",
              "       0.03137255, 0.        , 0.        , 0.        , 0.        ,\n",
              "       0.        , 0.        , 0.        , 0.        , 0.        ,\n",
              "       0.        , 0.02745098, 0.7921569 , 1.        , 1.        ,\n",
              "       1.        , 1.        , 1.        , 1.        , 0.65882355,\n",
              "       0.8745098 , 0.7058824 , 0.        , 0.        , 0.        ,\n",
              "       0.        , 0.43529412, 1.        , 0.07058824, 0.        ,\n",
              "       0.        , 0.        , 0.        , 0.        , 0.        ,\n",
              "       0.        , 0.        , 0.        , 0.        , 0.49019608,\n",
              "       1.        , 0.99607843, 0.93333334, 0.9098039 , 1.        ,\n",
              "       0.8627451 , 0.84705883, 0.7019608 , 0.67058825, 0.80784315,\n",
              "       0.        , 0.        , 0.        , 0.        , 0.20392157,\n",
              "       1.        , 0.3137255 , 0.        , 0.        , 0.        ,\n",
              "       0.        , 0.        , 0.        , 0.        , 0.        ,\n",
              "       0.        , 0.        , 0.8352941 , 0.9764706 , 1.        ,\n",
              "       0.5764706 , 0.8862745 , 1.        , 0.9490196 , 0.76862746,\n",
              "       0.7176471 , 0.5921569 , 0.8901961 , 0.        , 0.        ,\n",
              "       0.        , 0.        , 0.02745098, 1.        , 0.45490196,\n",
              "       0.        , 0.        , 0.        , 0.        , 0.        ,\n",
              "       0.        , 0.        , 0.        , 0.        , 0.12941177,\n",
              "       1.        , 0.90588236, 0.77254903, 0.5686275 , 0.98039216,\n",
              "       0.77254903, 0.3647059 , 0.70980394, 0.94509804, 0.45490196,\n",
              "       0.99607843, 0.08627451, 0.        , 0.        , 0.        ,\n",
              "       0.01960784, 1.        , 0.45882353, 0.        , 0.        ,\n",
              "       0.        , 0.        , 0.        , 0.        , 0.        ,\n",
              "       0.        , 0.        , 0.07058824, 0.73333335, 0.9647059 ,\n",
              "       1.        , 1.        , 1.        , 0.24313726, 0.        ,\n",
              "       0.3647059 , 0.9843137 , 0.3254902 , 1.        , 0.3254902 ,\n",
              "       0.        , 0.        , 0.        , 0.01960784, 1.        ,\n",
              "       0.45882353, 0.        , 0.        , 0.        , 0.        ,\n",
              "       0.        , 0.        , 0.        , 0.        , 0.2       ,\n",
              "       0.89411765, 1.        , 0.95686275, 1.        , 0.69803923,\n",
              "       1.        , 0.35686275, 0.        , 0.        , 0.02745098,\n",
              "       0.00784314, 0.92941177, 0.5686275 , 0.        , 0.        ,\n",
              "       0.        , 0.01960784, 1.        , 0.45882353, 0.        ,\n",
              "       0.        , 0.        , 0.        , 0.        , 0.        ,\n",
              "       0.        , 0.        , 0.7647059 , 1.        , 1.        ,\n",
              "       1.        , 0.9411765 , 0.34901962, 1.        , 0.2627451 ,\n",
              "       0.        , 0.        , 0.        , 0.        , 0.7019608 ,\n",
              "       0.80784315, 0.        , 0.        , 0.        , 0.01960784,\n",
              "       1.        , 0.45882353, 0.        , 0.        , 0.        ,\n",
              "       0.        , 0.        , 0.        , 0.        , 0.18431373,\n",
              "       0.99607843, 0.7294118 , 0.5372549 , 0.3764706 , 0.10196079,\n",
              "       0.6117647 , 0.9607843 , 0.03529412, 0.        , 0.        ,\n",
              "       0.        , 0.        , 0.5254902 , 0.9647059 , 0.00784314,\n",
              "       0.        , 0.        , 0.01960784, 1.        , 0.45882353,\n",
              "       0.        , 0.        , 0.        , 0.        , 0.        ,\n",
              "       0.        , 0.        , 0.78431374, 1.        , 0.9254902 ,\n",
              "       0.5372549 , 0.59607846, 0.9019608 , 1.        , 0.5372549 ,\n",
              "       0.        , 0.        , 0.        , 0.        , 0.        ,\n",
              "       0.38039216, 1.        , 0.10980392, 0.        , 0.        ,\n",
              "       0.00784314, 0.9647059 , 0.5254902 , 0.01960784, 0.29411766,\n",
              "       0.5137255 , 0.6509804 , 0.6431373 , 0.6       , 0.57254905,\n",
              "       0.6117647 , 0.9019608 , 0.92941177, 0.9529412 , 0.9372549 ,\n",
              "       0.654902  , 0.3254902 , 0.27058825, 0.5019608 , 0.627451  ,\n",
              "       0.4627451 , 0.27058825, 0.08627451, 0.23529412, 1.        ,\n",
              "       0.25882354, 0.        , 0.        , 0.02352941, 0.9411765 ,\n",
              "       0.89411765, 0.91764706, 1.        , 0.972549  , 0.827451  ,\n",
              "       0.84705883, 0.8666667 , 0.91764706, 0.93333334, 0.9882353 ,\n",
              "       1.        , 1.        , 1.        , 1.        , 0.9843137 ,\n",
              "       1.        , 0.98039216, 0.8745098 , 0.99215686, 1.        ,\n",
              "       1.        , 0.92941177, 1.        , 0.40392157, 0.        ,\n",
              "       0.        , 0.1254902 , 0.99607843, 0.9607843 , 0.63529414,\n",
              "       0.2627451 , 0.01176471, 0.        , 0.        , 0.        ,\n",
              "       0.        , 0.        , 0.        , 0.07450981, 0.20392157,\n",
              "       0.32941177, 0.45490196, 0.4745098 , 0.24705882, 0.03529412,\n",
              "       0.        , 0.04313726, 0.22352941, 0.40784314, 0.59607846,\n",
              "       0.7529412 , 0.25490198, 0.        , 0.        , 0.        ,\n",
              "       0.14901961, 0.04705882, 0.        , 0.        , 0.        ,\n",
              "       0.        , 0.        , 0.        , 0.        , 0.        ,\n",
              "       0.        , 0.        , 0.        , 0.        , 0.        ,\n",
              "       0.        , 0.        , 0.        , 0.        , 0.        ,\n",
              "       0.        , 0.        , 0.        , 0.        , 0.        ,\n",
              "       0.        , 0.        , 0.        , 0.        , 0.        ,\n",
              "       0.        , 0.        , 0.        , 0.        , 0.        ,\n",
              "       0.        , 0.        , 0.        , 0.        , 0.        ,\n",
              "       0.        , 0.        , 0.        , 0.        , 0.        ,\n",
              "       0.        , 0.        , 0.        , 0.        , 0.        ,\n",
              "       0.        , 0.        , 0.        , 0.        , 0.        ,\n",
              "       0.        , 0.        , 0.        , 0.        , 0.        ,\n",
              "       0.        , 0.        , 0.        , 0.        , 0.        ,\n",
              "       0.        , 0.        , 0.        , 0.        , 0.        ,\n",
              "       0.        , 0.        , 0.        , 0.        , 0.        ,\n",
              "       0.        , 0.        , 0.        , 0.        , 0.        ,\n",
              "       0.        , 0.        , 0.        , 0.        , 0.        ,\n",
              "       0.        , 0.        , 0.        , 0.        , 0.        ,\n",
              "       0.        , 0.        , 0.        , 0.        , 0.        ,\n",
              "       0.        , 0.        , 0.        , 0.        , 0.        ,\n",
              "       0.        , 0.        , 0.        , 0.        , 0.        ,\n",
              "       0.        , 0.        , 0.        , 0.        , 0.        ,\n",
              "       0.        , 0.        , 0.        , 0.        , 0.        ,\n",
              "       0.        , 0.        , 0.        , 0.        , 0.        ,\n",
              "       0.        , 0.        , 0.        , 0.        , 0.        ,\n",
              "       0.        , 0.        , 0.        , 0.        , 0.        ,\n",
              "       0.        , 0.        , 0.        , 0.        , 0.        ,\n",
              "       0.        , 0.        , 0.        , 0.        , 0.        ,\n",
              "       0.        , 0.        , 0.        , 0.        , 0.        ,\n",
              "       0.        , 0.        , 0.        , 0.        , 0.        ,\n",
              "       0.        , 0.        , 0.        , 0.        , 0.        ,\n",
              "       0.        , 0.        , 0.        , 0.        , 0.        ,\n",
              "       0.        , 0.        , 0.        , 0.        , 0.        ,\n",
              "       0.        , 0.        , 0.        , 0.        , 0.        ,\n",
              "       0.        , 0.        , 0.        , 0.        , 0.        ,\n",
              "       0.        , 0.        , 0.        , 0.        , 0.        ,\n",
              "       0.        , 0.        , 0.        , 0.        , 0.        ,\n",
              "       0.        , 0.        , 0.        , 0.        , 0.        ,\n",
              "       0.        , 0.        , 0.        , 0.        ], dtype=float32)"
            ]
          },
          "metadata": {
            "tags": []
          },
          "execution_count": 13
        }
      ]
    },
    {
      "cell_type": "code",
      "metadata": {
        "id": "2-1EniYdNPjU"
      },
      "source": [
        "X_train, X_test, y_train, y_test = train_test_split(X, y, random_state = 42)"
      ],
      "execution_count": 20,
      "outputs": []
    },
    {
      "cell_type": "code",
      "metadata": {
        "id": "19PA8RtQNPKi"
      },
      "source": [
        "model = Sequential()"
      ],
      "execution_count": 21,
      "outputs": []
    },
    {
      "cell_type": "code",
      "metadata": {
        "id": "Iskei9t3NPE4"
      },
      "source": [
        "# Add hidden layers\n",
        "model.add(\n",
        "    # Hidden Layer 1. Forgot why we used 32 neurons so using the same for now to be safe\n",
        "    Dense(32, activation = \"relu\", input_dim = 784)\n",
        ")\n",
        "\n",
        "model.add(\n",
        "    # Hidden Layer 2\n",
        "    Dense(32, activation = \"relu\")\n",
        ")\n",
        "\n",
        "model.add(\n",
        "    # Output layer\n",
        "    Dense(10, activation = \"softmax\")\n",
        ")\n"
      ],
      "execution_count": 22,
      "outputs": []
    },
    {
      "cell_type": "code",
      "metadata": {
        "id": "4Fuy0jaWNPAB"
      },
      "source": [
        "model.compile(optimizer = \"adam\", loss = \"sparse_categorical_crossentropy\", metrics = [\"accuracy\"])"
      ],
      "execution_count": 23,
      "outputs": []
    },
    {
      "cell_type": "code",
      "metadata": {
        "colab": {
          "base_uri": "https://localhost:8080/"
        },
        "id": "T0BAEaY1NO7O",
        "outputId": "35419b48-1923-4f51-9506-db3ed6f505ba"
      },
      "source": [
        "# Fit\n",
        "baseline = model.fit(X_train, y_train, epochs = 30, validation_data=(X_test, y_test))"
      ],
      "execution_count": 25,
      "outputs": [
        {
          "output_type": "stream",
          "text": [
            "Epoch 1/30\n",
            "2344/2344 [==============================] - 6s 3ms/step - loss: 0.4164 - accuracy: 0.8763 - val_loss: 0.5248 - val_accuracy: 0.8470\n",
            "Epoch 2/30\n",
            "2344/2344 [==============================] - 6s 3ms/step - loss: 0.4087 - accuracy: 0.8774 - val_loss: 0.5206 - val_accuracy: 0.8480\n",
            "Epoch 3/30\n",
            "2344/2344 [==============================] - 6s 3ms/step - loss: 0.4008 - accuracy: 0.8799 - val_loss: 0.5163 - val_accuracy: 0.8496\n",
            "Epoch 4/30\n",
            "2344/2344 [==============================] - 6s 2ms/step - loss: 0.3927 - accuracy: 0.8816 - val_loss: 0.5210 - val_accuracy: 0.8471\n",
            "Epoch 5/30\n",
            "2344/2344 [==============================] - 6s 2ms/step - loss: 0.3873 - accuracy: 0.8844 - val_loss: 0.5457 - val_accuracy: 0.8416\n",
            "Epoch 6/30\n",
            "2344/2344 [==============================] - 6s 3ms/step - loss: 0.3811 - accuracy: 0.8866 - val_loss: 0.5265 - val_accuracy: 0.8464\n",
            "Epoch 7/30\n",
            "2344/2344 [==============================] - 6s 3ms/step - loss: 0.3764 - accuracy: 0.8872 - val_loss: 0.5460 - val_accuracy: 0.8425\n",
            "Epoch 8/30\n",
            "2344/2344 [==============================] - 6s 3ms/step - loss: 0.3721 - accuracy: 0.8872 - val_loss: 0.5426 - val_accuracy: 0.8458\n",
            "Epoch 9/30\n",
            "2344/2344 [==============================] - 6s 2ms/step - loss: 0.3664 - accuracy: 0.8895 - val_loss: 0.5584 - val_accuracy: 0.8412\n",
            "Epoch 10/30\n",
            "2344/2344 [==============================] - 6s 2ms/step - loss: 0.3642 - accuracy: 0.8913 - val_loss: 0.5391 - val_accuracy: 0.8452\n",
            "Epoch 11/30\n",
            "2344/2344 [==============================] - 6s 3ms/step - loss: 0.3602 - accuracy: 0.8910 - val_loss: 0.5381 - val_accuracy: 0.8478\n",
            "Epoch 12/30\n",
            "2344/2344 [==============================] - 6s 2ms/step - loss: 0.3549 - accuracy: 0.8931 - val_loss: 0.5406 - val_accuracy: 0.8482\n",
            "Epoch 13/30\n",
            "2344/2344 [==============================] - 6s 3ms/step - loss: 0.3526 - accuracy: 0.8939 - val_loss: 0.5519 - val_accuracy: 0.8449\n",
            "Epoch 14/30\n",
            "2344/2344 [==============================] - 6s 2ms/step - loss: 0.3476 - accuracy: 0.8948 - val_loss: 0.5481 - val_accuracy: 0.8463\n",
            "Epoch 15/30\n",
            "2344/2344 [==============================] - 6s 2ms/step - loss: 0.3456 - accuracy: 0.8967 - val_loss: 0.5583 - val_accuracy: 0.8460\n",
            "Epoch 16/30\n",
            "2344/2344 [==============================] - 6s 2ms/step - loss: 0.3416 - accuracy: 0.8974 - val_loss: 0.5685 - val_accuracy: 0.8440\n",
            "Epoch 17/30\n",
            "2344/2344 [==============================] - 6s 2ms/step - loss: 0.3389 - accuracy: 0.8978 - val_loss: 0.5687 - val_accuracy: 0.8452\n",
            "Epoch 18/30\n",
            "2344/2344 [==============================] - 6s 2ms/step - loss: 0.3368 - accuracy: 0.8979 - val_loss: 0.5636 - val_accuracy: 0.8437\n",
            "Epoch 19/30\n",
            "2344/2344 [==============================] - 6s 2ms/step - loss: 0.3345 - accuracy: 0.8984 - val_loss: 0.5723 - val_accuracy: 0.8448\n",
            "Epoch 20/30\n",
            "2344/2344 [==============================] - 6s 2ms/step - loss: 0.3317 - accuracy: 0.8994 - val_loss: 0.5746 - val_accuracy: 0.8445\n",
            "Epoch 21/30\n",
            "2344/2344 [==============================] - 6s 2ms/step - loss: 0.3275 - accuracy: 0.9011 - val_loss: 0.5766 - val_accuracy: 0.8428\n",
            "Epoch 22/30\n",
            "2344/2344 [==============================] - 6s 2ms/step - loss: 0.3268 - accuracy: 0.9017 - val_loss: 0.5875 - val_accuracy: 0.8415\n",
            "Epoch 23/30\n",
            "2344/2344 [==============================] - 6s 2ms/step - loss: 0.3243 - accuracy: 0.9018 - val_loss: 0.5911 - val_accuracy: 0.8414\n",
            "Epoch 24/30\n",
            "2344/2344 [==============================] - 6s 2ms/step - loss: 0.3209 - accuracy: 0.9033 - val_loss: 0.5863 - val_accuracy: 0.8412\n",
            "Epoch 25/30\n",
            "2344/2344 [==============================] - 6s 2ms/step - loss: 0.3196 - accuracy: 0.9030 - val_loss: 0.5947 - val_accuracy: 0.8414\n",
            "Epoch 26/30\n",
            "2344/2344 [==============================] - 6s 2ms/step - loss: 0.3169 - accuracy: 0.9030 - val_loss: 0.5939 - val_accuracy: 0.8423\n",
            "Epoch 27/30\n",
            "2344/2344 [==============================] - 6s 2ms/step - loss: 0.3153 - accuracy: 0.9049 - val_loss: 0.6056 - val_accuracy: 0.8431\n",
            "Epoch 28/30\n",
            "2344/2344 [==============================] - 6s 2ms/step - loss: 0.3139 - accuracy: 0.9035 - val_loss: 0.5976 - val_accuracy: 0.8427\n",
            "Epoch 29/30\n",
            "2344/2344 [==============================] - 6s 2ms/step - loss: 0.3118 - accuracy: 0.9043 - val_loss: 0.6192 - val_accuracy: 0.8413\n",
            "Epoch 30/30\n",
            "2344/2344 [==============================] - 6s 2ms/step - loss: 0.3093 - accuracy: 0.9067 - val_loss: 0.6050 - val_accuracy: 0.8423\n"
          ],
          "name": "stdout"
        }
      ]
    },
    {
      "cell_type": "code",
      "metadata": {
        "colab": {
          "base_uri": "https://localhost:8080/"
        },
        "id": "UN3LUfKBTY6N",
        "outputId": "ca08b7d4-86fb-4bdc-b539-9b1f6808fa3b"
      },
      "source": [
        "model.evaluate(X_test, y_test)"
      ],
      "execution_count": 26,
      "outputs": [
        {
          "output_type": "stream",
          "text": [
            "782/782 [==============================] - 1s 2ms/step - loss: 0.6050 - accuracy: 0.8423\n"
          ],
          "name": "stdout"
        },
        {
          "output_type": "execute_result",
          "data": {
            "text/plain": [
              "[0.6049975752830505, 0.8422799706459045]"
            ]
          },
          "metadata": {
            "tags": []
          },
          "execution_count": 26
        }
      ]
    },
    {
      "cell_type": "markdown",
      "metadata": {
        "id": "b0QJURWh-9uv"
      },
      "source": [
        "### Visualize the results\n",
        "\n",
        "Create charts for both loss and accuracy by epoch. Use line graphs for both charts. Analyze the results. \n",
        "\n",
        "At what point should we have stopped training the model and why? "
      ]
    },
    {
      "cell_type": "code",
      "metadata": {
        "id": "KONJtU5wqlXf",
        "colab": {
          "base_uri": "https://localhost:8080/"
        },
        "outputId": "68c9ca38-ab0d-4537-ec09-29cf4699651c"
      },
      "source": [
        "baseline.history"
      ],
      "execution_count": 27,
      "outputs": [
        {
          "output_type": "execute_result",
          "data": {
            "text/plain": [
              "{'accuracy': [0.8762533068656921,\n",
              "  0.8773733377456665,\n",
              "  0.8799066543579102,\n",
              "  0.8815733194351196,\n",
              "  0.8844266533851624,\n",
              "  0.8865866661071777,\n",
              "  0.8871733546257019,\n",
              "  0.8871999979019165,\n",
              "  0.8894533514976501,\n",
              "  0.8912533521652222,\n",
              "  0.8909733295440674,\n",
              "  0.8931199908256531,\n",
              "  0.8939333558082581,\n",
              "  0.8948133587837219,\n",
              "  0.8966799974441528,\n",
              "  0.8973733186721802,\n",
              "  0.8978133201599121,\n",
              "  0.8979066610336304,\n",
              "  0.898413360118866,\n",
              "  0.8993866443634033,\n",
              "  0.9011333584785461,\n",
              "  0.9016933441162109,\n",
              "  0.9017866849899292,\n",
              "  0.9033200144767761,\n",
              "  0.902999997138977,\n",
              "  0.902999997138977,\n",
              "  0.904906690120697,\n",
              "  0.9035199880599976,\n",
              "  0.9043200016021729,\n",
              "  0.9067333340644836],\n",
              " 'loss': [0.4164360463619232,\n",
              "  0.4086761772632599,\n",
              "  0.40080657601356506,\n",
              "  0.39273157715797424,\n",
              "  0.38732409477233887,\n",
              "  0.38111773133277893,\n",
              "  0.3763650953769684,\n",
              "  0.37205636501312256,\n",
              "  0.3664318025112152,\n",
              "  0.3642215132713318,\n",
              "  0.36018702387809753,\n",
              "  0.3548848330974579,\n",
              "  0.3525526523590088,\n",
              "  0.34761783480644226,\n",
              "  0.3455604612827301,\n",
              "  0.3416169583797455,\n",
              "  0.33886221051216125,\n",
              "  0.3368089497089386,\n",
              "  0.33451735973358154,\n",
              "  0.33173418045043945,\n",
              "  0.3275149166584015,\n",
              "  0.32680052518844604,\n",
              "  0.32432782649993896,\n",
              "  0.32091501355171204,\n",
              "  0.31960830092430115,\n",
              "  0.3168852925300598,\n",
              "  0.31525272130966187,\n",
              "  0.3139379024505615,\n",
              "  0.3118210434913635,\n",
              "  0.30932819843292236],\n",
              " 'val_accuracy': [0.847000002861023,\n",
              "  0.8479599952697754,\n",
              "  0.849560022354126,\n",
              "  0.8470799922943115,\n",
              "  0.8415600061416626,\n",
              "  0.8463600277900696,\n",
              "  0.8424800038337708,\n",
              "  0.8457599878311157,\n",
              "  0.8411999940872192,\n",
              "  0.8451600074768066,\n",
              "  0.8478000164031982,\n",
              "  0.8481600284576416,\n",
              "  0.8448799848556519,\n",
              "  0.8463199734687805,\n",
              "  0.8460000157356262,\n",
              "  0.8440399765968323,\n",
              "  0.8452000021934509,\n",
              "  0.843720018863678,\n",
              "  0.8448399901390076,\n",
              "  0.8445199728012085,\n",
              "  0.8427600264549255,\n",
              "  0.8415200114250183,\n",
              "  0.8413599729537964,\n",
              "  0.841159999370575,\n",
              "  0.8413599729537964,\n",
              "  0.8422799706459045,\n",
              "  0.8431199789047241,\n",
              "  0.8426799774169922,\n",
              "  0.8412799835205078,\n",
              "  0.8422799706459045],\n",
              " 'val_loss': [0.5248476266860962,\n",
              "  0.5205532908439636,\n",
              "  0.5163010358810425,\n",
              "  0.5209797024726868,\n",
              "  0.545726478099823,\n",
              "  0.526459813117981,\n",
              "  0.5460368394851685,\n",
              "  0.5426394939422607,\n",
              "  0.5583579540252686,\n",
              "  0.5390927195549011,\n",
              "  0.538094162940979,\n",
              "  0.5405551791191101,\n",
              "  0.5519064664840698,\n",
              "  0.5480796098709106,\n",
              "  0.5582630634307861,\n",
              "  0.5684527158737183,\n",
              "  0.5687018632888794,\n",
              "  0.5635684728622437,\n",
              "  0.572267472743988,\n",
              "  0.5746307969093323,\n",
              "  0.5766019821166992,\n",
              "  0.5874931812286377,\n",
              "  0.5910759568214417,\n",
              "  0.5862855315208435,\n",
              "  0.5946685671806335,\n",
              "  0.5938501954078674,\n",
              "  0.605561375617981,\n",
              "  0.5975926518440247,\n",
              "  0.6191660761833191,\n",
              "  0.6049975752830505]}"
            ]
          },
          "metadata": {
            "tags": []
          },
          "execution_count": 27
        }
      ]
    },
    {
      "cell_type": "code",
      "metadata": {
        "id": "ijAlzfYKAFaY",
        "colab": {
          "base_uri": "https://localhost:8080/",
          "height": 295
        },
        "outputId": "7f10a922-c39c-43b2-b2f2-2334b5f7823d"
      },
      "source": [
        "import seaborn as sns\n",
        "import pandas as pd\n",
        "\n",
        "df = pd.DataFrame.from_records(baseline.history)\n",
        "df['epoch'] = [i for i in range(df.shape[0])]\n",
        "\n",
        "ax = sns.lineplot(x='epoch', y='val_loss', data=df, label = \"validation\")\n",
        "ax = sns.lineplot(x='epoch', y='loss', data=df, label = \"test\")\n",
        "plt.title(\"Line chart showing model loss\");"
      ],
      "execution_count": 30,
      "outputs": [
        {
          "output_type": "display_data",
          "data": {
            "image/png": "[encoded data removed]",
            "text/plain": [
              "<Figure size 432x288 with 1 Axes>"
            ]
          },
          "metadata": {
            "tags": [],
            "needs_background": "light"
          }
        }
      ]
    },
    {
      "cell_type": "markdown",
      "metadata": {
        "id": "qgV-Z3QRVM8b"
      },
      "source": [
        "Validation loss increasing. Overfitting?"
      ]
    },
    {
      "cell_type": "code",
      "metadata": {
        "colab": {
          "base_uri": "https://localhost:8080/",
          "height": 386
        },
        "id": "UMGWyBB4VQfT",
        "outputId": "ab95cba1-6642-49d5-a8b7-63a7df68ae19"
      },
      "source": [
        "# Look at accuracy\n",
        "ax = sns.lineplot(\"epoch\", \"accuracy\", data = df, label = \"train\")\n",
        "ax = sns.lineplot(\"epoch\", \"val_accuracy\", data = df, label = \"test\")\n",
        "plt.title(\"Line chart showing model accuracy\");"
      ],
      "execution_count": 33,
      "outputs": [
        {
          "output_type": "stream",
          "text": [
            "/usr/local/lib/python3.6/dist-packages/seaborn/_decorators.py:43: FutureWarning: Pass the following variables as keyword args: x, y. From version 0.12, the only valid positional argument will be `data`, and passing other arguments without an explicit keyword will result in an error or misinterpretation.\n",
            "  FutureWarning\n",
            "/usr/local/lib/python3.6/dist-packages/seaborn/_decorators.py:43: FutureWarning: Pass the following variables as keyword args: x, y. From version 0.12, the only valid positional argument will be `data`, and passing other arguments without an explicit keyword will result in an error or misinterpretation.\n",
            "  FutureWarning\n"
          ],
          "name": "stderr"
        },
        {
          "output_type": "display_data",
          "data": {
            "image/png": "[encoded data removed]",
            "text/plain": [
              "<Figure size 432x288 with 1 Axes>"
            ]
          },
          "metadata": {
            "tags": [],
            "needs_background": "light"
          }
        }
      ]
    },
    {
      "cell_type": "markdown",
      "metadata": {
        "id": "MAhBrcE4yOZe"
      },
      "source": [
        "## Change Optimizers\n",
        "Try using the keras `adam` optimizer instead of `sgd` in your model. Visualize the difference in validation loss between the models with different optimizers. "
      ]
    },
    {
      "cell_type": "code",
      "metadata": {
        "id": "jIW_spOZ0cxy"
      },
      "source": [
        "from tf.keras.optimizers import Adam\n",
        "\n",
        "adam = Adam()"
      ],
      "execution_count": null,
      "outputs": []
    },
    {
      "cell_type": "code",
      "metadata": {
        "colab": {
          "base_uri": "https://localhost:8080/"
        },
        "id": "YN1W7jhzXgOB",
        "outputId": "289ee10c-29d7-40a0-8652-9d942b61cd12"
      },
      "source": [
        "# Started with adam so I'll try sgd\n",
        "# Copy baseline code to have everything else the same\n",
        "model = Sequential()\n",
        "\n",
        "# Add hidden layers\n",
        "model.add(\n",
        "    # Hidden Layer 1. Forgot why we used 32 neurons so using the same for now to be safe\n",
        "    Dense(32, activation = \"relu\", input_dim = 784)\n",
        ")\n",
        "\n",
        "model.add(\n",
        "    # Hidden Layer 2\n",
        "    Dense(32, activation = \"relu\")\n",
        ")\n",
        "\n",
        "model.add(\n",
        "    # Output layer\n",
        "    Dense(10, activation = \"softmax\")\n",
        ")\n",
        "\n",
        "model.compile(optimizer = \"sgd\", loss = \"sparse_categorical_crossentropy\", metrics = [\"accuracy\"])\n",
        "\n",
        "# Fit\n",
        "results = model.fit(X_train, y_train, epochs = 30, validation_data=(X_test, y_test))"
      ],
      "execution_count": 34,
      "outputs": [
        {
          "output_type": "stream",
          "text": [
            "Epoch 1/30\n",
            "2344/2344 [==============================] - 6s 3ms/step - loss: 1.1333 - accuracy: 0.6554 - val_loss: 0.8523 - val_accuracy: 0.7525\n",
            "Epoch 2/30\n",
            "2344/2344 [==============================] - 6s 3ms/step - loss: 0.8029 - accuracy: 0.7652 - val_loss: 0.7658 - val_accuracy: 0.7775\n",
            "Epoch 3/30\n",
            "2344/2344 [==============================] - 6s 3ms/step - loss: 0.7277 - accuracy: 0.7872 - val_loss: 0.7084 - val_accuracy: 0.7900\n",
            "Epoch 4/30\n",
            "2344/2344 [==============================] - 6s 3ms/step - loss: 0.6765 - accuracy: 0.8023 - val_loss: 0.6731 - val_accuracy: 0.7976\n",
            "Epoch 5/30\n",
            "2344/2344 [==============================] - 6s 3ms/step - loss: 0.6402 - accuracy: 0.8116 - val_loss: 0.6487 - val_accuracy: 0.8048\n",
            "Epoch 6/30\n",
            "2344/2344 [==============================] - 6s 3ms/step - loss: 0.6130 - accuracy: 0.8186 - val_loss: 0.6223 - val_accuracy: 0.8146\n",
            "Epoch 7/30\n",
            "2344/2344 [==============================] - 6s 3ms/step - loss: 0.5916 - accuracy: 0.8253 - val_loss: 0.6088 - val_accuracy: 0.8172\n",
            "Epoch 8/30\n",
            "2344/2344 [==============================] - 6s 2ms/step - loss: 0.5733 - accuracy: 0.8305 - val_loss: 0.6025 - val_accuracy: 0.8184\n",
            "Epoch 9/30\n",
            "2344/2344 [==============================] - 6s 3ms/step - loss: 0.5587 - accuracy: 0.8349 - val_loss: 0.5848 - val_accuracy: 0.8250\n",
            "Epoch 10/30\n",
            "2344/2344 [==============================] - 6s 2ms/step - loss: 0.5456 - accuracy: 0.8379 - val_loss: 0.5772 - val_accuracy: 0.8278\n",
            "Epoch 11/30\n",
            "2344/2344 [==============================] - 6s 3ms/step - loss: 0.5342 - accuracy: 0.8418 - val_loss: 0.5780 - val_accuracy: 0.8272\n",
            "Epoch 12/30\n",
            "2344/2344 [==============================] - 6s 2ms/step - loss: 0.5236 - accuracy: 0.8445 - val_loss: 0.5659 - val_accuracy: 0.8287\n",
            "Epoch 13/30\n",
            "2344/2344 [==============================] - 6s 3ms/step - loss: 0.5142 - accuracy: 0.8468 - val_loss: 0.5582 - val_accuracy: 0.8340\n",
            "Epoch 14/30\n",
            "2344/2344 [==============================] - 6s 3ms/step - loss: 0.5065 - accuracy: 0.8498 - val_loss: 0.5629 - val_accuracy: 0.8303\n",
            "Epoch 15/30\n",
            "2344/2344 [==============================] - 6s 3ms/step - loss: 0.4986 - accuracy: 0.8516 - val_loss: 0.5594 - val_accuracy: 0.8315\n",
            "Epoch 16/30\n",
            "2344/2344 [==============================] - 6s 3ms/step - loss: 0.4919 - accuracy: 0.8535 - val_loss: 0.5475 - val_accuracy: 0.8370\n",
            "Epoch 17/30\n",
            "2344/2344 [==============================] - 6s 2ms/step - loss: 0.4858 - accuracy: 0.8551 - val_loss: 0.5429 - val_accuracy: 0.8386\n",
            "Epoch 18/30\n",
            "2344/2344 [==============================] - 6s 3ms/step - loss: 0.4790 - accuracy: 0.8575 - val_loss: 0.5415 - val_accuracy: 0.8380\n",
            "Epoch 19/30\n",
            "2344/2344 [==============================] - 6s 3ms/step - loss: 0.4733 - accuracy: 0.8593 - val_loss: 0.5435 - val_accuracy: 0.8363\n",
            "Epoch 20/30\n",
            "2344/2344 [==============================] - 6s 3ms/step - loss: 0.4676 - accuracy: 0.8606 - val_loss: 0.5414 - val_accuracy: 0.8373\n",
            "Epoch 21/30\n",
            "2344/2344 [==============================] - 6s 3ms/step - loss: 0.4623 - accuracy: 0.8620 - val_loss: 0.5393 - val_accuracy: 0.8393\n",
            "Epoch 22/30\n",
            "2344/2344 [==============================] - 6s 2ms/step - loss: 0.4575 - accuracy: 0.8645 - val_loss: 0.5322 - val_accuracy: 0.8426\n",
            "Epoch 23/30\n",
            "2344/2344 [==============================] - 6s 3ms/step - loss: 0.4525 - accuracy: 0.8649 - val_loss: 0.5359 - val_accuracy: 0.8419\n",
            "Epoch 24/30\n",
            "2344/2344 [==============================] - 6s 3ms/step - loss: 0.4482 - accuracy: 0.8671 - val_loss: 0.5332 - val_accuracy: 0.8424\n",
            "Epoch 25/30\n",
            "2344/2344 [==============================] - 6s 3ms/step - loss: 0.4444 - accuracy: 0.8672 - val_loss: 0.5454 - val_accuracy: 0.8415\n",
            "Epoch 26/30\n",
            "2344/2344 [==============================] - 6s 3ms/step - loss: 0.4405 - accuracy: 0.8685 - val_loss: 0.5364 - val_accuracy: 0.8436\n",
            "Epoch 27/30\n",
            "2344/2344 [==============================] - 6s 3ms/step - loss: 0.4364 - accuracy: 0.8708 - val_loss: 0.5302 - val_accuracy: 0.8443\n",
            "Epoch 28/30\n",
            "2344/2344 [==============================] - 6s 2ms/step - loss: 0.4327 - accuracy: 0.8708 - val_loss: 0.5331 - val_accuracy: 0.8445\n",
            "Epoch 29/30\n",
            "2344/2344 [==============================] - 6s 2ms/step - loss: 0.4295 - accuracy: 0.8722 - val_loss: 0.5361 - val_accuracy: 0.8434\n",
            "Epoch 30/30\n",
            "2344/2344 [==============================] - 6s 3ms/step - loss: 0.4262 - accuracy: 0.8740 - val_loss: 0.5321 - val_accuracy: 0.8434\n"
          ],
          "name": "stdout"
        }
      ]
    },
    {
      "cell_type": "code",
      "metadata": {
        "colab": {
          "base_uri": "https://localhost:8080/"
        },
        "id": "4mMBWC69ZN-I",
        "outputId": "3aaef53c-9f59-444f-e592-666f776354f1"
      },
      "source": [
        "model.evaluate(X_test, y_test)"
      ],
      "execution_count": 39,
      "outputs": [
        {
          "output_type": "stream",
          "text": [
            "782/782 [==============================] - 1s 2ms/step - loss: 0.5321 - accuracy: 0.8434\n"
          ],
          "name": "stdout"
        },
        {
          "output_type": "execute_result",
          "data": {
            "text/plain": [
              "[0.5321444272994995, 0.8434399962425232]"
            ]
          },
          "metadata": {
            "tags": []
          },
          "execution_count": 39
        }
      ]
    },
    {
      "cell_type": "markdown",
      "metadata": {
        "id": "kwykvXf1ZWc4"
      },
      "source": [
        "Lower loss but about the same accuracy. Interesting. Didn't know that was possible"
      ]
    },
    {
      "cell_type": "code",
      "metadata": {
        "colab": {
          "base_uri": "https://localhost:8080/",
          "height": 498
        },
        "id": "vDKkKYHpX_07",
        "outputId": "62e7d9e6-2965-4767-c359-dba4e81dc88c"
      },
      "source": [
        "epochs = [i for i in range(len(results.history[\"loss\"]))]\n",
        "\n",
        "fig, ax = plt.subplots(1, 2, figsize = (20, 5))\n",
        "\n",
        "ax[0] = sns.lineplot(epochs, results.history[\"loss\"], label = \"training loss\")\n",
        "ax[0] = sns.lineplot(epochs, results.history[\"val_loss\"], label = \"test loss\")\n",
        "ax[0].title.set_text(\"Line chart showing model loss\")\n",
        "\n",
        "ax[1] = sns.lineplot(epochs, results.history[\"accuracy\"], label = \"training accuracy\")\n",
        "ax[1] = sns.lineplot(epochs, results.history[\"val_accuracy\"], label = \"test accuracy\")\n",
        "ax[1].title.set_text(\"Line chart showing model accuracy\")\n",
        "\n",
        "plt.show()"
      ],
      "execution_count": 45,
      "outputs": [
        {
          "output_type": "stream",
          "text": [
            "/usr/local/lib/python3.6/dist-packages/seaborn/_decorators.py:43: FutureWarning: Pass the following variables as keyword args: x, y. From version 0.12, the only valid positional argument will be `data`, and passing other arguments without an explicit keyword will result in an error or misinterpretation.\n",
            "  FutureWarning\n",
            "/usr/local/lib/python3.6/dist-packages/seaborn/_decorators.py:43: FutureWarning: Pass the following variables as keyword args: x, y. From version 0.12, the only valid positional argument will be `data`, and passing other arguments without an explicit keyword will result in an error or misinterpretation.\n",
            "  FutureWarning\n",
            "/usr/local/lib/python3.6/dist-packages/seaborn/_decorators.py:43: FutureWarning: Pass the following variables as keyword args: x, y. From version 0.12, the only valid positional argument will be `data`, and passing other arguments without an explicit keyword will result in an error or misinterpretation.\n",
            "  FutureWarning\n",
            "/usr/local/lib/python3.6/dist-packages/seaborn/_decorators.py:43: FutureWarning: Pass the following variables as keyword args: x, y. From version 0.12, the only valid positional argument will be `data`, and passing other arguments without an explicit keyword will result in an error or misinterpretation.\n",
            "  FutureWarning\n"
          ],
          "name": "stderr"
        },
        {
          "output_type": "display_data",
          "data": {
            "image/png": "[encoded data removed]",
            "text/plain": [
              "<Figure size 1440x360 with 2 Axes>"
            ]
          },
          "metadata": {
            "tags": [],
            "needs_background": "light"
          }
        }
      ]
    },
    {
      "cell_type": "markdown",
      "metadata": {
        "id": "EJrbh3qryi4w"
      },
      "source": [
        "### Additional Written Tasks:\n",
        "In this section, you will need to search for resources: \n",
        "1. Investigate the various [loss functions](https://www.tensorflow.org/api_docs/python/tf/keras/losses). Which is best suited for the task at hand (predicting 1 / 0) and why? \n",
        "2. What is the difference between a loss function and a metric? Why might we need both in Keras? \n",
        "3. Investigate the various [optimizers](https://www.tensorflow.org/api_docs/python/tf/keras/optimizers). Stochastic Gradient Descent (`sgd`) is not the learning algorithm dejour anyone. Why is that? What do newer optimizers such as `adam` have to offer? "
      ]
    },
    {
      "cell_type": "markdown",
      "metadata": {
        "id": "Gzs4fd-RynDd"
      },
      "source": [
        "## Stretch Goals: \n",
        "\n",
        "- Research convolutional neural networks and try including convolution layers in your network.\n",
        "- Pick two classes and make QuickDraw a binary classification problem, how does your model architecture change?\n",
        "- Implement Cross Validation model evaluation on your Quickdraw implementation \n",
        "\n",
        "Watch some more videos on Gradient Descent:\n",
        "- [Gradient Descent, Step-by-Step](https://www.youtube.com/watch?v=sDv4f4s2SB8)  by StatQuest w/ Josh Starmer. This will help you understand the gradient descent based optimization that happens underneath the hood of neural networks. It uses a non-neural network example, which I believe is a gentler introduction. You will hear me refer to this technique as \"vanilla\" gradient descent. \n",
        "- [Stochastic Gradient Descent, Clearly Explained!!!](https://www.youtube.com/watch?v=vMh0zPT0tLI) by StatQuest w/ Josh Starmer. This builds on the techniques in the previous video.  This technique is the one that is actually implemented inside modern 'nets. \n",
        "- [Siraj Raval the evolution of gradient descent](https://www.youtube.com/watch?v=nhqo0u1a6fw)"
      ]
    }
  ]
}
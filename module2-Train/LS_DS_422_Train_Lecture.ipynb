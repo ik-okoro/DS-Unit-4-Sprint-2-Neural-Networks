{
  "nbformat": 4,
  "nbformat_minor": 0,
  "metadata": {
    "colab": {
      "name": "Ik_LS_DS_422_Train.ipynb",
      "provenance": [],
      "collapsed_sections": [],
      "include_colab_link": true
    },
    "kernelspec": {
      "display_name": "Python 3",
      "language": "python",
      "name": "python3"
    },
    "language_info": {
      "codemirror_mode": {
        "name": "ipython",
        "version": 3
      },
      "file_extension": ".py",
      "mimetype": "text/x-python",
      "name": "python",
      "nbconvert_exporter": "python",
      "pygments_lexer": "ipython3",
      "version": "3.7.7"
    },
    "accelerator": "GPU"
  },
  "cells": [
    {
      "cell_type": "markdown",
      "metadata": {
        "id": "view-in-github",
        "colab_type": "text"
      },
      "source": [
        "<a href=\"https://colab.research.google.com/github/ik-okoro/DS-Unit-4-Sprint-2-Neural-Networks/blob/main/module2-Train/LS_DS_422_Train_Lecture.ipynb\" target=\"_parent\"><img src=\"https://colab.research.google.com/assets/colab-badge.svg\" alt=\"Open In Colab\"/></a>"
      ]
    },
    {
      "cell_type": "markdown",
      "metadata": {
        "id": "aS4GZ37Wgcjr"
      },
      "source": [
        "Lambda School Data Science\n",
        "\n",
        "*Unit 4, Sprint 2, Module 2*\n",
        "\n",
        "---"
      ]
    },
    {
      "cell_type": "markdown",
      "metadata": {
        "id": "etFf1WLWgcjt",
        "toc-hr-collapsed": false
      },
      "source": [
        "# Train (Prepare)\n",
        "__*Neural Network Foundations*__"
      ]
    },
    {
      "cell_type": "markdown",
      "metadata": {
        "id": "hXB80QOhgcju"
      },
      "source": [
        "## Learning Objectives\n",
        "* <a href=\"#p1\">Part 1</a>: Student should be able to explain the intuition behind backpropagation and gradient descent\n",
        "* <a href=\"#p2\">Part 2</a>: Student should be able to discuss the importance of batch size\n",
        "* <a href=\"#p3\">Part 3</a>: Student should be able to discuss the importance of learning rate"
      ]
    },
    {
      "cell_type": "markdown",
      "metadata": {
        "id": "8YuQu2lfgcju"
      },
      "source": [
        "## Summary of Yesterday\n",
        "\n",
        "Yesterday, we learned about some of the principal components of Neural Networks: Neurons, Weights, Activation Functions, and layers (input, output, & hidden). Today, we will reinforce our understanding of those components and introduce the mechanics of training a neural network. Feed-forward neural networks, such as multi-layer perceptrons (MLPs), are almost always trained using some variation of gradient descent where the gradient has been calculated by backpropagation.\n",
        "\n",
        "  <center><img src=\"https://raw.githubusercontent.com/LambdaSchool/DS-Unit-4-Sprint-2-Neural-Networks/main/module1-Architect/IMG_0167.jpeg\" width=400></center>\n",
        "\n",
        "- There are three kinds of layers: input, hidden, and output layers.\n",
        "- Each layer is made up of **n** individual neurons (aka activation units) which have a corresponding weight and bias.\n",
        "- Signal is passed from layer to layer through a network by:\n",
        " - Taking in inputs from the training data (or previous layer)\n",
        " - Multiplying each input by its corresponding weight (think arrow/connecting line)\n",
        " - Adding a bias to this weighted some of inputs and weights\n",
        " - Activating this weighted sum + bias by squishifying it with sigmoid or some other activation function. With a single perceptron with three inputs, calculating the output from the node is done like so:\n",
        "\\begin{align}\n",
        " y = sigmoid(\\sum(weight_{1}input_{1} + weight_{2}input_{2} + weight_{3}input_{3}) + bias)\n",
        "\\end{align}\n",
        " - this final activated value is the signal that gets passed onto the next layer of the network.\n",
        " "
      ]
    },
    {
      "cell_type": "markdown",
      "metadata": {
        "id": "bpi4R03rgcjv"
      },
      "source": [
        "## Training a Neural Network: *Formal Summary*\n",
        "\n",
        "0. Pick a network architecture\n",
        "   - No. of input units = No. of features\n",
        "   - No. of output units = Number of Classes (or expected targets)\n",
        "   - Select the number of hidden layers and number of neurons within each hidden layer\n",
        "1. Randomly initialize weights\n",
        "2. Implement forward propagation to get $h_{\\theta}(x^{(i)})$ for any $x^{(i)}$\n",
        "3. Implement code to compute a cost function $J(\\theta)$\n",
        "4. Implement backpropagation to compute partial derivatives $\\frac{\\delta}{\\delta\\theta_{jk}^{l}}{J(\\theta)}$\n",
        "5. Use gradient descent (or other advanced optimizer) with backpropagation to minimize $J(\\theta)$ as a function of parameters $\\theta\\$\n",
        "6. Repeat steps 2 - 5 until cost function is 'minimized' or some other stopping criteria is met. One pass over steps 2 - 5 is called an iteration or epoch."
      ]
    },
    {
      "cell_type": "markdown",
      "metadata": {
        "id": "aM4CK1IarId4",
        "toc-hr-collapsed": false
      },
      "source": [
        "# Backpropagation & Gradient Descent (Learn)\n",
        "<a id=\"p1\"></a>"
      ]
    },
    {
      "cell_type": "markdown",
      "metadata": {
        "id": "Ktm8Fmoagcjy",
        "toc-hr-collapsed": true
      },
      "source": [
        "## Overview\n",
        "\n",
        "Backpropagation is short for [\"Backwards Propagation of errors\"](https://en.wikipedia.org/wiki/Backpropagation) and refers to a specific (rather calculus intensive) algorithm for how weights in a neural network are updated in reverse order at the end of each training epoch. Our purpose today is to demonstrate the backpropagation algorithm on a simple Feedforward Neural Network and in so doing help you get a grasp on the main process. If you want to understand all of the underlying calculus of how the gradients are calculated then you'll need to dive into it yourself, [3Blue1Brown's video is a great starting place](https://www.youtube.com/watch?v=tIeHLnjs5U8). I also highly recommend this Welch Labs series [Neural Networks Demystified](https://www.youtube.com/watch?v=bxe2T-V8XRs) if you want a rapid yet orderly walk through of the main intuitions and math behind the backpropagation algorithm. "
      ]
    },
    {
      "cell_type": "markdown",
      "metadata": {
        "id": "NXI2tEO9gcjy"
      },
      "source": [
        "### What is a Gradient?\n",
        "\n",
        "> In vector calculus, the gradient is a multi-variable generalization of the derivative. \n",
        "\n",
        "The gradients that we will deal with today will be vector representations of the derivative of the activation function. "
      ]
    },
    {
      "cell_type": "markdown",
      "metadata": {
        "id": "UZY66kiUgcjz",
        "toc-hr-collapsed": true
      },
      "source": [
        "## Follow Along\n",
        "\n",
        "In this section, we will again a simple neural network using base TensorFlow. We'll focus on using a __Feed Forward Neural Network__ to predict test scores. "
      ]
    },
    {
      "cell_type": "markdown",
      "metadata": {
        "id": "Dm2HPETcrgy6",
        "toc-hr-collapsed": true
      },
      "source": [
        "<center><img src=\"https://raw.githubusercontent.com/LambdaSchool/DS-Unit-4-Sprint-2-Neural-Networks/main/module1-Architect/IMG_99C94113202D-1.jpeg\"width=500></center>"
      ]
    },
    {
      "cell_type": "markdown",
      "metadata": {
        "id": "4d4tzpwO6B47"
      },
      "source": [
        "### Generate some Fake Data"
      ]
    },
    {
      "cell_type": "code",
      "metadata": {
        "id": "ERyVgeO_IWyV"
      },
      "source": [
        "import tensorflow as tf\n",
        "\n",
        "# Imagine that our data is drawn from a linear function\n",
        "# y = 3*hours_studying + 50\n",
        "\n",
        "TRUE_W = 3.5\n",
        "TRUE_b = 50.0\n",
        "NUM_EXAMPLES = 1000\n",
        "\n",
        "inputs = tf.random.normal(shape=[NUM_EXAMPLES])\n",
        "noise = tf.random.normal(shape=[NUM_EXAMPLES])\n",
        "\n",
        "# y_hat = x * w + b error/noise\n",
        "outputs = inputs * TRUE_W + TRUE_b + noise"
      ],
      "execution_count": 1,
      "outputs": []
    },
    {
      "cell_type": "markdown",
      "metadata": {
        "id": "bCJesGEUgcj4"
      },
      "source": [
        "### Loss Function\n",
        "Here we will use Mean Squared Error (MSE), because this is a regression problem. We are trying to predict a continuous target."
      ]
    },
    {
      "cell_type": "code",
      "metadata": {
        "id": "cDeUBW6k4Ri4"
      },
      "source": [
        "def loss(target_y, predicted_y):\n",
        "  \"MSE\"\n",
        "  return tf.reduce_mean(tf.square(target_y - predicted_y))"
      ],
      "execution_count": 2,
      "outputs": []
    },
    {
      "cell_type": "markdown",
      "metadata": {
        "id": "bgTf6vTS69Sw"
      },
      "source": [
        "### Neural Network Architecture\n",
        "Lets create a Neural Network class called \"Model\" to contain this functionality. Note: This is essentially a linear regression whose coefficients are trained by gradient descent. In practice, gradient descent works on much more complex function like the multi-layer networks we constructed yesterday."
      ]
    },
    {
      "cell_type": "code",
      "metadata": {
        "id": "RUI8VSR5zyBv"
      },
      "source": [
        "class Model(object):\n",
        "\n",
        "  def __init__(self):\n",
        "    self.W = tf.Variable(8.0)\n",
        "    self.b = tf.Variable(40.0)\n",
        "\n",
        "  def __call__(self, x):\n",
        "    # Essentially returns mx + b\n",
        "    return self.W * x + self.b\n",
        "\n",
        "model = Model()\n",
        "\n",
        "assert model(3.0).numpy() == 64.0"
      ],
      "execution_count": 3,
      "outputs": []
    },
    {
      "cell_type": "markdown",
      "metadata": {
        "id": "gbyT_FJ88IlK"
      },
      "source": [
        "### Initial Weights\n",
        "The initial weights in our model were arbitrary. In practice, weights are initialized randomly. "
      ]
    },
    {
      "cell_type": "code",
      "metadata": {
        "colab": {
          "base_uri": "https://localhost:8080/",
          "height": 282
        },
        "id": "IreIDe6P8H0H",
        "outputId": "1ffb37fb-14c2-4111-e249-61793f6ff5a8"
      },
      "source": [
        "import matplotlib.pyplot as plt\n",
        "\n",
        "plt.scatter(inputs, outputs, c='b', label = \"data\")\n",
        "plt.scatter(inputs, model(inputs), c='r', label = \"model predictions\")\n",
        "plt.show()\n",
        "\n",
        "print('Current loss: %1.6f' % loss(model(inputs), outputs).numpy())"
      ],
      "execution_count": 4,
      "outputs": [
        {
          "output_type": "display_data",
          "data": {
            "image/png": "[encoded data removed]",
            "text/plain": [
              "<Figure size 432x288 with 1 Axes>"
            ]
          },
          "metadata": {
            "tags": [],
            "needs_background": "light"
          }
        },
        {
          "output_type": "stream",
          "text": [
            "Current loss: 121.117973\n"
          ],
          "name": "stdout"
        }
      ]
    },
    {
      "cell_type": "markdown",
      "metadata": {
        "id": "16Ujj6vNYQyX",
        "toc-hr-collapsed": true
      },
      "source": [
        "### Update Weights Based on Gradient\n",
        "\n",
        "> *Assigning blame for bad predictions and delivering justice - repeatedly and a little bit at a time*\n",
        "\n",
        "You should also know that with neural networks it is common to have gradients that are not convex (like what we saw when we applied gradient descent to linear regression). \n",
        "\n",
        "Due to the high complexity of these models and their nonlinearity, it is common for gradient descent to get stuck in a local minimum, but there are ways to combat this:\n",
        "\n",
        "1) Stochastic Gradient Descent\n",
        "\n",
        "2) More advanced Gradient-Descent-based \"Optimizers\" - See Stretch Goals on assignment."
      ]
    },
    {
      "cell_type": "code",
      "metadata": {
        "id": "ZgaGD6YlHoid"
      },
      "source": [
        " def train(model, inputs, outputs, learning_rate):\n",
        "  with tf.GradientTape() as t: \n",
        "     current_loss = loss(outputs, model(inputs)) # Single value\n",
        "  dW, db = t.gradient(current_loss, [model.W, model.b]) # Backprop. How much does a particular obvs work with W b\n",
        "  model.W.assign_sub(learning_rate * dW)\n",
        "  model.b.assign_sub(learning_rate * db)"
      ],
      "execution_count": 5,
      "outputs": []
    },
    {
      "cell_type": "markdown",
      "metadata": {
        "id": "7iziWWURgck8"
      },
      "source": [
        "### Train the Network"
      ]
    },
    {
      "cell_type": "code",
      "metadata": {
        "colab": {
          "base_uri": "https://localhost:8080/"
        },
        "id": "4zn_HgFuHhTr",
        "outputId": "037dfeb2-90a1-4977-a50c-82e9eb511a9d"
      },
      "source": [
        "model = Model()\n",
        "\n",
        "# Store Some history of weights\n",
        "Ws, bs = [], []\n",
        "epochs = range(10)\n",
        "for epoch in epochs:\n",
        "  Ws.append(model.W.numpy())\n",
        "  bs.append(model.b.numpy())\n",
        "  current_loss = loss(outputs, model(inputs))\n",
        "\n",
        "  train(model, inputs, outputs, learning_rate=0.1)\n",
        "  print('Epoch %2d: W=%1.2f b=%1.2f loss=%2.5f' % (epoch, Ws[-1], bs[-1], current_loss))"
      ],
      "execution_count": 6,
      "outputs": [
        {
          "output_type": "stream",
          "text": [
            "Epoch  0: W=8.00 b=40.00 loss=121.11797\n",
            "Epoch  1: W=7.11 b=42.00 loss=77.89538\n",
            "Epoch  2: W=6.40 b=43.60 loss=50.22385\n",
            "Epoch  3: W=5.82 b=44.88 loss=32.50800\n",
            "Epoch  4: W=5.36 b=45.91 loss=21.16580\n",
            "Epoch  5: W=4.99 b=46.73 loss=13.90408\n",
            "Epoch  6: W=4.69 b=47.38 loss=9.25478\n",
            "Epoch  7: W=4.45 b=47.90 loss=6.27801\n",
            "Epoch  8: W=4.26 b=48.32 loss=4.37209\n",
            "Epoch  9: W=4.10 b=48.65 loss=3.15176\n"
          ],
          "name": "stdout"
        }
      ]
    },
    {
      "cell_type": "code",
      "metadata": {
        "colab": {
          "base_uri": "https://localhost:8080/",
          "height": 264
        },
        "id": "FSEt07wdHvi2",
        "outputId": "e2e493aa-fe13-4ea0-e220-96b23067a72d"
      },
      "source": [
        "import matplotlib.pyplot as plt\n",
        "\n",
        "plt.plot(epochs, Ws, 'r', epochs, bs, 'b')\n",
        "plt.plot([TRUE_W] * len(epochs), 'r--',\n",
        "         [TRUE_b] * len(epochs), 'b--')\n",
        "plt.legend(['W', 'b', 'True W', 'True b'])\n",
        "plt.show()"
      ],
      "execution_count": 7,
      "outputs": [
        {
          "output_type": "display_data",
          "data": {
            "image/png": "[encoded data removed]",
            "text/plain": [
              "<Figure size 432x288 with 1 Axes>"
            ]
          },
          "metadata": {
            "tags": [],
            "needs_background": "light"
          }
        }
      ]
    },
    {
      "cell_type": "code",
      "metadata": {
        "colab": {
          "base_uri": "https://localhost:8080/",
          "height": 282
        },
        "id": "Cx1pGyYcmfKZ",
        "outputId": "4fba7b81-2427-46d9-a272-d52eb8b0abe3"
      },
      "source": [
        "import matplotlib.pyplot as plt\n",
        "\n",
        "plt.scatter(inputs, outputs, c='b', label = \"data\")\n",
        "plt.scatter(inputs, model(inputs), c='r', label = \"model predictions\")\n",
        "plt.show()\n",
        "\n",
        "print('Current loss: %1.6f' % loss(model(inputs), outputs).numpy())"
      ],
      "execution_count": 8,
      "outputs": [
        {
          "output_type": "display_data",
          "data": {
            "image/png": "[encoded data removed]",
            "text/plain": [
              "<Figure size 432x288 with 1 Axes>"
            ]
          },
          "metadata": {
            "tags": [],
            "needs_background": "light"
          }
        },
        {
          "output_type": "stream",
          "text": [
            "Current loss: 2.370401\n"
          ],
          "name": "stdout"
        }
      ]
    },
    {
      "cell_type": "markdown",
      "metadata": {
        "id": "6OgkOWzhmpdd"
      },
      "source": [
        "Lines up now that model has been trained"
      ]
    },
    {
      "cell_type": "markdown",
      "metadata": {
        "id": "iKUVGoRxgck_"
      },
      "source": [
        "## Challenge\n",
        "\n",
        "In the module project, you will be asked to explain the logic of backpropagation and gradient descent."
      ]
    },
    {
      "cell_type": "markdown",
      "metadata": {
        "id": "ySe1JSQLPqso"
      },
      "source": [
        "### In the following two sections we'll look at batch size and learning rate hyperparameters in isolation. \n",
        "However, it's important to know that recent research found some interesting relationships between batch sizes and learning rates. The best available suggestion today is to scale batch size proportionally to a learning rate:\n",
        "- https://openreview.net/pdf?id=B1Yy1BxCZ\n",
        "- https://papers.nips.cc/paper/8398-control-batch-size-and-learning-rate-to-generalize-well-theoretical-and-empirical-evidence.pdf"
      ]
    },
    {
      "cell_type": "markdown",
      "metadata": {
        "id": "vTqZg-6igclA",
        "toc-hr-collapsed": true
      },
      "source": [
        "# Batch Size (Learn)"
      ]
    },
    {
      "cell_type": "markdown",
      "metadata": {
        "id": "0nrm-racgclA"
      },
      "source": [
        "## Overview\n",
        "\n",
        "The What - Stochastic Gradient Descent calculates an approximation of the gradient over the entire dataset by reviewing the predictions of a random sample. \n",
        "\n",
        "The Why - *Speed*. Calculating the gradient over the entire dataset is extremely expensive computationally. \n",
        "\n",
        "### Batch Size\n",
        "Batches are the number of observations our model is shown to make predictions and update the weights. Batches are selected randomly during epoch. All observations are considered when passing thru an epoch at some point."
      ]
    },
    {
      "cell_type": "markdown",
      "metadata": {
        "id": "oNQ2ZCi7I4i6"
      },
      "source": [
        "### Baseline Model"
      ]
    },
    {
      "cell_type": "code",
      "metadata": {
        "id": "mZjW2lYVI9Q2",
        "colab": {
          "base_uri": "https://localhost:8080/"
        },
        "outputId": "2facfe15-d6b9-453e-94c7-ddd08ecab671"
      },
      "source": [
        "from tensorflow.keras.datasets import mnist\n",
        "\n",
        "(X_train, y_train), (X_test, y_test) = mnist.load_data()\n",
        "\n",
        "max_pixal_value = 255\n",
        "\n",
        "X_train = X_train / max_pixal_value\n",
        "X_test = X_test / max_pixal_value\n",
        "\n",
        "X_train = X_train.reshape((60000, 784))\n",
        "X_test = X_test.reshape((10000, 784))"
      ],
      "execution_count": 9,
      "outputs": [
        {
          "output_type": "stream",
          "text": [
            "Downloading data from https://storage.googleapis.com/tensorflow/tf-keras-datasets/mnist.npz\n",
            "11493376/11490434 [==============================] - 0s 0us/step\n"
          ],
          "name": "stdout"
        }
      ]
    },
    {
      "cell_type": "code",
      "metadata": {
        "id": "o7x17kDKJSy5"
      },
      "source": [
        "# Our Model\n",
        "from tensorflow.keras import Sequential\n",
        "from tensorflow.keras.layers import Dense\n",
        "from tensorflow.keras.optimizers import SGD\n",
        "\n",
        "def create_model(lr=.01):\n",
        "\n",
        "  opt = SGD(learning_rate=lr)\n",
        "\n",
        "  model = Sequential([\n",
        "          Dense(1, activation='relu', input_dim=784),\n",
        "          Dense(32, activation='relu'),\n",
        "          Dense(10, activation='softmax')\n",
        "\n",
        "  ])\n",
        "\n",
        "  model.compile(optimizer=opt, loss='sparse_categorical_crossentropy',\n",
        "                       metrics=['accuracy'])\n",
        "  return model"
      ],
      "execution_count": 10,
      "outputs": []
    },
    {
      "cell_type": "code",
      "metadata": {
        "colab": {
          "base_uri": "https://localhost:8080/"
        },
        "id": "1WuWMkhKNFb2",
        "outputId": "edf3edb0-c12e-49f5-a8bc-2df2b6080a6c"
      },
      "source": [
        "create_model().summary()"
      ],
      "execution_count": 11,
      "outputs": [
        {
          "output_type": "stream",
          "text": [
            "Model: \"sequential\"\n",
            "_________________________________________________________________\n",
            "Layer (type)                 Output Shape              Param #   \n",
            "=================================================================\n",
            "dense (Dense)                (None, 1)                 785       \n",
            "_________________________________________________________________\n",
            "dense_1 (Dense)              (None, 32)                64        \n",
            "_________________________________________________________________\n",
            "dense_2 (Dense)              (None, 10)                330       \n",
            "=================================================================\n",
            "Total params: 1,179\n",
            "Trainable params: 1,179\n",
            "Non-trainable params: 0\n",
            "_________________________________________________________________\n"
          ],
          "name": "stdout"
        }
      ]
    },
    {
      "cell_type": "markdown",
      "metadata": {
        "id": "ZF7UE-KluPsX"
      },
      "source": [
        "## Follow Along\n",
        "Let's run a series of experiments for a default, small, and large batch size."
      ]
    },
    {
      "cell_type": "markdown",
      "metadata": {
        "id": "VhpDaVFRJl3U"
      },
      "source": [
        "### Default\n",
        "Batch Size is 32"
      ]
    },
    {
      "cell_type": "code",
      "metadata": {
        "id": "P-ChVGikgclD",
        "colab": {
          "base_uri": "https://localhost:8080/"
        },
        "outputId": "393c1bc5-9aca-4ae4-e1e3-cce6c51f7cc8"
      },
      "source": [
        "model = create_model()\n",
        "\n",
        "bt_default = model.fit(X_train, y_train,\n",
        "                                epochs=25,\n",
        "                                batch_size=32,\n",
        "                                validation_data=(X_test,y_test))"
      ],
      "execution_count": 12,
      "outputs": [
        {
          "output_type": "stream",
          "text": [
            "Epoch 1/25\n",
            "1875/1875 [==============================] - 4s 2ms/step - loss: 2.0595 - accuracy: 0.2128 - val_loss: 1.9171 - val_accuracy: 0.2602\n",
            "Epoch 2/25\n",
            "1875/1875 [==============================] - 4s 2ms/step - loss: 1.8618 - accuracy: 0.2657 - val_loss: 1.8045 - val_accuracy: 0.2834\n",
            "Epoch 3/25\n",
            "1875/1875 [==============================] - 4s 2ms/step - loss: 1.7852 - accuracy: 0.2833 - val_loss: 1.7464 - val_accuracy: 0.3031\n",
            "Epoch 4/25\n",
            "1875/1875 [==============================] - 4s 2ms/step - loss: 1.7381 - accuracy: 0.2988 - val_loss: 1.7052 - val_accuracy: 0.3226\n",
            "Epoch 5/25\n",
            "1875/1875 [==============================] - 4s 2ms/step - loss: 1.7041 - accuracy: 0.3113 - val_loss: 1.6806 - val_accuracy: 0.3093\n",
            "Epoch 6/25\n",
            "1875/1875 [==============================] - 4s 2ms/step - loss: 1.6768 - accuracy: 0.3167 - val_loss: 1.6565 - val_accuracy: 0.3299\n",
            "Epoch 7/25\n",
            "1875/1875 [==============================] - 4s 2ms/step - loss: 1.6556 - accuracy: 0.3202 - val_loss: 1.6341 - val_accuracy: 0.3293\n",
            "Epoch 8/25\n",
            "1875/1875 [==============================] - 4s 2ms/step - loss: 1.6416 - accuracy: 0.3184 - val_loss: 1.6220 - val_accuracy: 0.3259\n",
            "Epoch 9/25\n",
            "1875/1875 [==============================] - 4s 2ms/step - loss: 1.6325 - accuracy: 0.3141 - val_loss: 1.6169 - val_accuracy: 0.3325\n",
            "Epoch 10/25\n",
            "1875/1875 [==============================] - 4s 2ms/step - loss: 1.6257 - accuracy: 0.3194 - val_loss: 1.6164 - val_accuracy: 0.3240\n",
            "Epoch 11/25\n",
            "1875/1875 [==============================] - 4s 2ms/step - loss: 1.6206 - accuracy: 0.3263 - val_loss: 1.6052 - val_accuracy: 0.3390\n",
            "Epoch 12/25\n",
            "1875/1875 [==============================] - 4s 2ms/step - loss: 1.6160 - accuracy: 0.3404 - val_loss: 1.6007 - val_accuracy: 0.3369\n",
            "Epoch 13/25\n",
            "1875/1875 [==============================] - 4s 2ms/step - loss: 1.6104 - accuracy: 0.3498 - val_loss: 1.5957 - val_accuracy: 0.3494\n",
            "Epoch 14/25\n",
            "1875/1875 [==============================] - 4s 2ms/step - loss: 1.6018 - accuracy: 0.3630 - val_loss: 1.5825 - val_accuracy: 0.3671\n",
            "Epoch 15/25\n",
            "1875/1875 [==============================] - 4s 2ms/step - loss: 1.5870 - accuracy: 0.3729 - val_loss: 1.5665 - val_accuracy: 0.3800\n",
            "Epoch 16/25\n",
            "1875/1875 [==============================] - 4s 2ms/step - loss: 1.5754 - accuracy: 0.3825 - val_loss: 1.5653 - val_accuracy: 0.3892\n",
            "Epoch 17/25\n",
            "1875/1875 [==============================] - 4s 2ms/step - loss: 1.5663 - accuracy: 0.3891 - val_loss: 1.5524 - val_accuracy: 0.3932\n",
            "Epoch 18/25\n",
            "1875/1875 [==============================] - 4s 2ms/step - loss: 1.5589 - accuracy: 0.3959 - val_loss: 1.5454 - val_accuracy: 0.4072\n",
            "Epoch 19/25\n",
            "1875/1875 [==============================] - 4s 2ms/step - loss: 1.5517 - accuracy: 0.4029 - val_loss: 1.5467 - val_accuracy: 0.4009\n",
            "Epoch 20/25\n",
            "1875/1875 [==============================] - 4s 2ms/step - loss: 1.5443 - accuracy: 0.4065 - val_loss: 1.5343 - val_accuracy: 0.4102\n",
            "Epoch 21/25\n",
            "1875/1875 [==============================] - 4s 2ms/step - loss: 1.5385 - accuracy: 0.4118 - val_loss: 1.5240 - val_accuracy: 0.4146\n",
            "Epoch 22/25\n",
            "1875/1875 [==============================] - 4s 2ms/step - loss: 1.5331 - accuracy: 0.4163 - val_loss: 1.5220 - val_accuracy: 0.4213\n",
            "Epoch 23/25\n",
            "1875/1875 [==============================] - 4s 2ms/step - loss: 1.5291 - accuracy: 0.4171 - val_loss: 1.5294 - val_accuracy: 0.4124\n",
            "Epoch 24/25\n",
            "1875/1875 [==============================] - 4s 2ms/step - loss: 1.5250 - accuracy: 0.4215 - val_loss: 1.5252 - val_accuracy: 0.4130\n",
            "Epoch 25/25\n",
            "1875/1875 [==============================] - 4s 2ms/step - loss: 1.5217 - accuracy: 0.4216 - val_loss: 1.5142 - val_accuracy: 0.4226\n"
          ],
          "name": "stdout"
        }
      ]
    },
    {
      "cell_type": "markdown",
      "metadata": {
        "id": "KvsbOFnDJuG0"
      },
      "source": [
        "### Small Batch Size\n",
        "Batch Size is 8"
      ]
    },
    {
      "cell_type": "code",
      "metadata": {
        "id": "diDzvb-UJ1je",
        "colab": {
          "base_uri": "https://localhost:8080/"
        },
        "outputId": "323a7a9a-7f8b-4505-b8d4-de4641b99158"
      },
      "source": [
        "bt_small = create_model().fit(X_train, y_train,\n",
        "                                epochs=25,\n",
        "                                batch_size=8,\n",
        "                                validation_data=(X_test,y_test)\n",
        ")"
      ],
      "execution_count": 13,
      "outputs": [
        {
          "output_type": "stream",
          "text": [
            "Epoch 1/25\n",
            "7500/7500 [==============================] - 14s 2ms/step - loss: 1.8959 - accuracy: 0.2593 - val_loss: 1.7276 - val_accuracy: 0.2931\n",
            "Epoch 2/25\n",
            "7500/7500 [==============================] - 14s 2ms/step - loss: 1.6809 - accuracy: 0.3032 - val_loss: 1.6562 - val_accuracy: 0.3056\n",
            "Epoch 3/25\n",
            "7500/7500 [==============================] - 14s 2ms/step - loss: 1.6335 - accuracy: 0.3152 - val_loss: 1.6028 - val_accuracy: 0.3707\n",
            "Epoch 4/25\n",
            "7500/7500 [==============================] - 14s 2ms/step - loss: 1.5632 - accuracy: 0.3740 - val_loss: 1.5684 - val_accuracy: 0.3759\n",
            "Epoch 5/25\n",
            "7500/7500 [==============================] - 15s 2ms/step - loss: 1.5210 - accuracy: 0.3761 - val_loss: 1.5065 - val_accuracy: 0.3885\n",
            "Epoch 6/25\n",
            "7500/7500 [==============================] - 15s 2ms/step - loss: 1.5056 - accuracy: 0.3777 - val_loss: 1.5113 - val_accuracy: 0.3750\n",
            "Epoch 7/25\n",
            "7500/7500 [==============================] - 14s 2ms/step - loss: 1.4955 - accuracy: 0.3814 - val_loss: 1.4784 - val_accuracy: 0.3918\n",
            "Epoch 8/25\n",
            "7500/7500 [==============================] - 14s 2ms/step - loss: 1.4894 - accuracy: 0.3865 - val_loss: 1.4866 - val_accuracy: 0.3868\n",
            "Epoch 9/25\n",
            "7500/7500 [==============================] - 14s 2ms/step - loss: 1.4859 - accuracy: 0.3877 - val_loss: 1.4737 - val_accuracy: 0.3942\n",
            "Epoch 10/25\n",
            "7500/7500 [==============================] - 14s 2ms/step - loss: 1.4821 - accuracy: 0.3913 - val_loss: 1.4751 - val_accuracy: 0.4009\n",
            "Epoch 11/25\n",
            "7500/7500 [==============================] - 14s 2ms/step - loss: 1.4799 - accuracy: 0.3943 - val_loss: 1.4700 - val_accuracy: 0.4017\n",
            "Epoch 12/25\n",
            "7500/7500 [==============================] - 14s 2ms/step - loss: 1.4774 - accuracy: 0.3955 - val_loss: 1.4840 - val_accuracy: 0.4086\n",
            "Epoch 13/25\n",
            "7500/7500 [==============================] - 14s 2ms/step - loss: 1.4744 - accuracy: 0.4011 - val_loss: 1.4799 - val_accuracy: 0.4030\n",
            "Epoch 14/25\n",
            "7500/7500 [==============================] - 14s 2ms/step - loss: 1.4708 - accuracy: 0.4073 - val_loss: 1.4705 - val_accuracy: 0.4136\n",
            "Epoch 15/25\n",
            "7500/7500 [==============================] - 14s 2ms/step - loss: 1.4654 - accuracy: 0.4163 - val_loss: 1.4709 - val_accuracy: 0.4261\n",
            "Epoch 16/25\n",
            "7500/7500 [==============================] - 15s 2ms/step - loss: 1.4616 - accuracy: 0.4200 - val_loss: 1.4699 - val_accuracy: 0.4217\n",
            "Epoch 17/25\n",
            "7500/7500 [==============================] - 14s 2ms/step - loss: 1.4544 - accuracy: 0.4290 - val_loss: 1.4501 - val_accuracy: 0.4357\n",
            "Epoch 18/25\n",
            "7500/7500 [==============================] - 14s 2ms/step - loss: 1.4484 - accuracy: 0.4325 - val_loss: 1.4381 - val_accuracy: 0.4383\n",
            "Epoch 19/25\n",
            "7500/7500 [==============================] - 14s 2ms/step - loss: 1.4420 - accuracy: 0.4343 - val_loss: 1.4305 - val_accuracy: 0.4463\n",
            "Epoch 20/25\n",
            "7500/7500 [==============================] - 15s 2ms/step - loss: 1.4356 - accuracy: 0.4393 - val_loss: 1.4589 - val_accuracy: 0.4397\n",
            "Epoch 21/25\n",
            "7500/7500 [==============================] - 14s 2ms/step - loss: 1.4294 - accuracy: 0.4416 - val_loss: 1.4177 - val_accuracy: 0.4392\n",
            "Epoch 22/25\n",
            "7500/7500 [==============================] - 14s 2ms/step - loss: 1.4243 - accuracy: 0.4421 - val_loss: 1.4242 - val_accuracy: 0.4515\n",
            "Epoch 23/25\n",
            "7500/7500 [==============================] - 14s 2ms/step - loss: 1.4205 - accuracy: 0.4438 - val_loss: 1.4614 - val_accuracy: 0.4404\n",
            "Epoch 24/25\n",
            "7500/7500 [==============================] - 14s 2ms/step - loss: 1.4161 - accuracy: 0.4479 - val_loss: 1.4654 - val_accuracy: 0.4211\n",
            "Epoch 25/25\n",
            "7500/7500 [==============================] - 14s 2ms/step - loss: 1.4121 - accuracy: 0.4483 - val_loss: 1.4059 - val_accuracy: 0.4555\n"
          ],
          "name": "stdout"
        }
      ]
    },
    {
      "cell_type": "markdown",
      "metadata": {
        "id": "_iPvvvt5J2Xl"
      },
      "source": [
        "### Large Batch Size\n",
        "Batch Size is 512"
      ]
    },
    {
      "cell_type": "code",
      "metadata": {
        "id": "7h8Z5293KABT",
        "colab": {
          "base_uri": "https://localhost:8080/"
        },
        "outputId": "f08a8bd9-e2ec-497a-ac27-787616642863"
      },
      "source": [
        "bt_large = create_model().fit(X_train, y_train,\n",
        "                                epochs=25,\n",
        "                                batch_size=512,\n",
        "                                validation_data=(X_test,y_test)\n",
        ")"
      ],
      "execution_count": 14,
      "outputs": [
        {
          "output_type": "stream",
          "text": [
            "Epoch 1/25\n",
            "118/118 [==============================] - 1s 4ms/step - loss: 2.2992 - accuracy: 0.1184 - val_loss: 2.2935 - val_accuracy: 0.1256\n",
            "Epoch 2/25\n",
            "118/118 [==============================] - 0s 4ms/step - loss: 2.2804 - accuracy: 0.1238 - val_loss: 2.2564 - val_accuracy: 0.1128\n",
            "Epoch 3/25\n",
            "118/118 [==============================] - 0s 3ms/step - loss: 2.2287 - accuracy: 0.1214 - val_loss: 2.1914 - val_accuracy: 0.1245\n",
            "Epoch 4/25\n",
            "118/118 [==============================] - 0s 3ms/step - loss: 2.1623 - accuracy: 0.1658 - val_loss: 2.1246 - val_accuracy: 0.1933\n",
            "Epoch 5/25\n",
            "118/118 [==============================] - 0s 3ms/step - loss: 2.1025 - accuracy: 0.2012 - val_loss: 2.0713 - val_accuracy: 0.2103\n",
            "Epoch 6/25\n",
            "118/118 [==============================] - 0s 3ms/step - loss: 2.0564 - accuracy: 0.2123 - val_loss: 2.0317 - val_accuracy: 0.2137\n",
            "Epoch 7/25\n",
            "118/118 [==============================] - 0s 3ms/step - loss: 2.0212 - accuracy: 0.2128 - val_loss: 2.0016 - val_accuracy: 0.2111\n",
            "Epoch 8/25\n",
            "118/118 [==============================] - 0s 3ms/step - loss: 1.9939 - accuracy: 0.2131 - val_loss: 1.9780 - val_accuracy: 0.2122\n",
            "Epoch 9/25\n",
            "118/118 [==============================] - 0s 3ms/step - loss: 1.9720 - accuracy: 0.2149 - val_loss: 1.9589 - val_accuracy: 0.2152\n",
            "Epoch 10/25\n",
            "118/118 [==============================] - 0s 3ms/step - loss: 1.9539 - accuracy: 0.2154 - val_loss: 1.9430 - val_accuracy: 0.2151\n",
            "Epoch 11/25\n",
            "118/118 [==============================] - 0s 3ms/step - loss: 1.9388 - accuracy: 0.2154 - val_loss: 1.9298 - val_accuracy: 0.2154\n",
            "Epoch 12/25\n",
            "118/118 [==============================] - 0s 3ms/step - loss: 1.9259 - accuracy: 0.2157 - val_loss: 1.9183 - val_accuracy: 0.2142\n",
            "Epoch 13/25\n",
            "118/118 [==============================] - 0s 3ms/step - loss: 1.9147 - accuracy: 0.2159 - val_loss: 1.9084 - val_accuracy: 0.2142\n",
            "Epoch 14/25\n",
            "118/118 [==============================] - 0s 3ms/step - loss: 1.9048 - accuracy: 0.2160 - val_loss: 1.8997 - val_accuracy: 0.2138\n",
            "Epoch 15/25\n",
            "118/118 [==============================] - 0s 3ms/step - loss: 1.8961 - accuracy: 0.2161 - val_loss: 1.8920 - val_accuracy: 0.2137\n",
            "Epoch 16/25\n",
            "118/118 [==============================] - 0s 3ms/step - loss: 1.8883 - accuracy: 0.2157 - val_loss: 1.8848 - val_accuracy: 0.2134\n",
            "Epoch 17/25\n",
            "118/118 [==============================] - 0s 3ms/step - loss: 1.8812 - accuracy: 0.2158 - val_loss: 1.8785 - val_accuracy: 0.2135\n",
            "Epoch 18/25\n",
            "118/118 [==============================] - 0s 3ms/step - loss: 1.8748 - accuracy: 0.2154 - val_loss: 1.8728 - val_accuracy: 0.2135\n",
            "Epoch 19/25\n",
            "118/118 [==============================] - 0s 3ms/step - loss: 1.8689 - accuracy: 0.2157 - val_loss: 1.8675 - val_accuracy: 0.2118\n",
            "Epoch 20/25\n",
            "118/118 [==============================] - 0s 3ms/step - loss: 1.8635 - accuracy: 0.2160 - val_loss: 1.8628 - val_accuracy: 0.2116\n",
            "Epoch 21/25\n",
            "118/118 [==============================] - 0s 3ms/step - loss: 1.8585 - accuracy: 0.2165 - val_loss: 1.8584 - val_accuracy: 0.2124\n",
            "Epoch 22/25\n",
            "118/118 [==============================] - 0s 3ms/step - loss: 1.8538 - accuracy: 0.2164 - val_loss: 1.8544 - val_accuracy: 0.2125\n",
            "Epoch 23/25\n",
            "118/118 [==============================] - 0s 3ms/step - loss: 1.8494 - accuracy: 0.2163 - val_loss: 1.8502 - val_accuracy: 0.2166\n",
            "Epoch 24/25\n",
            "118/118 [==============================] - 0s 3ms/step - loss: 1.8454 - accuracy: 0.2168 - val_loss: 1.8468 - val_accuracy: 0.2120\n",
            "Epoch 25/25\n",
            "118/118 [==============================] - 0s 3ms/step - loss: 1.8415 - accuracy: 0.2164 - val_loss: 1.8432 - val_accuracy: 0.2124\n"
          ],
          "name": "stdout"
        }
      ]
    },
    {
      "cell_type": "markdown",
      "metadata": {
        "id": "B0ujUz6BKUGz"
      },
      "source": [
        "### Visualization of Results"
      ]
    },
    {
      "cell_type": "code",
      "metadata": {
        "id": "o-5DOZNMKYt-",
        "colab": {
          "base_uri": "https://localhost:8080/",
          "height": 197
        },
        "outputId": "17e2f4fd-a7cc-4d29-ac03-7b12896f9aec"
      },
      "source": [
        "import seaborn as sns\n",
        "import pandas as pd\n",
        "\n",
        "batch_sizes = []\n",
        "\n",
        "for exp, result in zip([bt_default, bt_small, bt_large], [\"32_\", \"8_\", \"512_\"]):\n",
        "\n",
        "  df = pd.DataFrame.from_dict(exp.history)\n",
        "  df['epoch'] = df.index.values\n",
        "  df['Batch Size'] = result\n",
        "\n",
        "  batch_sizes.append(df)\n",
        "\n",
        "df = pd.concat(batch_sizes)\n",
        "df['Batch Size'] = df['Batch Size'].astype('str')\n",
        "df.head()"
      ],
      "execution_count": 15,
      "outputs": [
        {
          "output_type": "execute_result",
          "data": {
            "text/html": [
              "<div>\n",
              "<style scoped>\n",
              "    .dataframe tbody tr th:only-of-type {\n",
              "        vertical-align: middle;\n",
              "    }\n",
              "\n",
              "    .dataframe tbody tr th {\n",
              "        vertical-align: top;\n",
              "    }\n",
              "\n",
              "    .dataframe thead th {\n",
              "        text-align: right;\n",
              "    }\n",
              "</style>\n",
              "<table border=\"1\" class=\"dataframe\">\n",
              "  <thead>\n",
              "    <tr style=\"text-align: right;\">\n",
              "      <th></th>\n",
              "      <th>loss</th>\n",
              "      <th>accuracy</th>\n",
              "      <th>val_loss</th>\n",
              "      <th>val_accuracy</th>\n",
              "      <th>epoch</th>\n",
              "      <th>Batch Size</th>\n",
              "    </tr>\n",
              "  </thead>\n",
              "  <tbody>\n",
              "    <tr>\n",
              "      <th>0</th>\n",
              "      <td>2.059529</td>\n",
              "      <td>0.212783</td>\n",
              "      <td>1.917115</td>\n",
              "      <td>0.2602</td>\n",
              "      <td>0</td>\n",
              "      <td>32_</td>\n",
              "    </tr>\n",
              "    <tr>\n",
              "      <th>1</th>\n",
              "      <td>1.861795</td>\n",
              "      <td>0.265667</td>\n",
              "      <td>1.804462</td>\n",
              "      <td>0.2834</td>\n",
              "      <td>1</td>\n",
              "      <td>32_</td>\n",
              "    </tr>\n",
              "    <tr>\n",
              "      <th>2</th>\n",
              "      <td>1.785210</td>\n",
              "      <td>0.283350</td>\n",
              "      <td>1.746398</td>\n",
              "      <td>0.3031</td>\n",
              "      <td>2</td>\n",
              "      <td>32_</td>\n",
              "    </tr>\n",
              "    <tr>\n",
              "      <th>3</th>\n",
              "      <td>1.738065</td>\n",
              "      <td>0.298817</td>\n",
              "      <td>1.705230</td>\n",
              "      <td>0.3226</td>\n",
              "      <td>3</td>\n",
              "      <td>32_</td>\n",
              "    </tr>\n",
              "    <tr>\n",
              "      <th>4</th>\n",
              "      <td>1.704114</td>\n",
              "      <td>0.311300</td>\n",
              "      <td>1.680579</td>\n",
              "      <td>0.3093</td>\n",
              "      <td>4</td>\n",
              "      <td>32_</td>\n",
              "    </tr>\n",
              "  </tbody>\n",
              "</table>\n",
              "</div>"
            ],
            "text/plain": [
              "       loss  accuracy  val_loss  val_accuracy  epoch Batch Size\n",
              "0  2.059529  0.212783  1.917115        0.2602      0        32_\n",
              "1  1.861795  0.265667  1.804462        0.2834      1        32_\n",
              "2  1.785210  0.283350  1.746398        0.3031      2        32_\n",
              "3  1.738065  0.298817  1.705230        0.3226      3        32_\n",
              "4  1.704114  0.311300  1.680579        0.3093      4        32_"
            ]
          },
          "metadata": {
            "tags": []
          },
          "execution_count": 15
        }
      ]
    },
    {
      "cell_type": "code",
      "metadata": {
        "colab": {
          "base_uri": "https://localhost:8080/",
          "height": 278
        },
        "id": "AchbF1UXeGpl",
        "outputId": "5e7338f6-93db-4e73-b53a-ae3df6b56bb6"
      },
      "source": [
        "sns.lineplot(x='epoch', y='val_accuracy', hue='Batch Size', data=df);"
      ],
      "execution_count": 16,
      "outputs": [
        {
          "output_type": "display_data",
          "data": {
            "image/png": "[encoded data removed]",
            "text/plain": [
              "<Figure size 432x288 with 1 Axes>"
            ]
          },
          "metadata": {
            "tags": [],
            "needs_background": "light"
          }
        }
      ]
    },
    {
      "cell_type": "code",
      "metadata": {
        "colab": {
          "base_uri": "https://localhost:8080/",
          "height": 278
        },
        "id": "Q6RadLDleHt2",
        "outputId": "10951b1d-3603-4263-8792-decc7c3f235c"
      },
      "source": [
        "sns.lineplot(x='epoch', y='val_loss', hue='Batch Size', data=df);"
      ],
      "execution_count": 17,
      "outputs": [
        {
          "output_type": "display_data",
          "data": {
            "image/png": "[encoded data removed]",
            "text/plain": [
              "<Figure size 432x288 with 1 Axes>"
            ]
          },
          "metadata": {
            "tags": [],
            "needs_background": "light"
          }
        }
      ]
    },
    {
      "cell_type": "markdown",
      "metadata": {
        "id": "4kZ2vUYYgclS"
      },
      "source": [
        "## Challenge\n",
        "\n",
        "You will be expected to experiment with batch size on today's assignment."
      ]
    },
    {
      "cell_type": "markdown",
      "metadata": {
        "id": "46cP9Pm_gclS"
      },
      "source": [
        "# Learning Rate (Learn)"
      ]
    },
    {
      "cell_type": "markdown",
      "metadata": {
        "id": "Bna67ADZgclT",
        "toc-hr-collapsed": true
      },
      "source": [
        "## Overview\n",
        "\n",
        "Learning Rate controls the size of the update to our weights that the optimization algorithm makes. VERY IMPORTANT hyperparameter.\n",
        "\n",
        "* Too high of a learning rate causes unstable results\n",
        "* Too Low of a learning rate the model will underfit\n",
        "* Goldy Locks parameters - it needs be \"just right\"\n",
        "* Scale of 0-1"
      ]
    },
    {
      "cell_type": "markdown",
      "metadata": {
        "id": "gsVYOn7bgcle",
        "toc-hr-collapsed": true
      },
      "source": [
        "## Follow Along\n",
        "\n",
        "Same experiment with Batch but different learning rates:\n",
        "* High Learning = .75\n",
        "* Default Learning = .01\n",
        "* Low Learning Rate = .0001"
      ]
    },
    {
      "cell_type": "markdown",
      "metadata": {
        "id": "CI_H8Em1NOii"
      },
      "source": [
        "### Default Learning Rate"
      ]
    },
    {
      "cell_type": "code",
      "metadata": {
        "id": "Se8cb_ZUNVtL",
        "colab": {
          "base_uri": "https://localhost:8080/"
        },
        "outputId": "0ed176bc-eb90-4645-cbfc-178677d706ae"
      },
      "source": [
        "lr_default = create_model().fit(X_train, y_train,\n",
        "                                epochs=25,\n",
        "                                validation_data=(X_test,y_test)\n",
        ")"
      ],
      "execution_count": 18,
      "outputs": [
        {
          "output_type": "stream",
          "text": [
            "Epoch 1/25\n",
            "1875/1875 [==============================] - 4s 2ms/step - loss: 2.0462 - accuracy: 0.2130 - val_loss: 1.9160 - val_accuracy: 0.2421\n",
            "Epoch 2/25\n",
            "1875/1875 [==============================] - 4s 2ms/step - loss: 1.8651 - accuracy: 0.2609 - val_loss: 1.8186 - val_accuracy: 0.2664\n",
            "Epoch 3/25\n",
            "1875/1875 [==============================] - 4s 2ms/step - loss: 1.7434 - accuracy: 0.2885 - val_loss: 1.6819 - val_accuracy: 0.3231\n",
            "Epoch 4/25\n",
            "1875/1875 [==============================] - 4s 2ms/step - loss: 1.6366 - accuracy: 0.3250 - val_loss: 1.6153 - val_accuracy: 0.3442\n",
            "Epoch 5/25\n",
            "1875/1875 [==============================] - 4s 2ms/step - loss: 1.5904 - accuracy: 0.3480 - val_loss: 1.5769 - val_accuracy: 0.3480\n",
            "Epoch 6/25\n",
            "1875/1875 [==============================] - 4s 2ms/step - loss: 1.5694 - accuracy: 0.3553 - val_loss: 1.5569 - val_accuracy: 0.3640\n",
            "Epoch 7/25\n",
            "1875/1875 [==============================] - 4s 2ms/step - loss: 1.5583 - accuracy: 0.3639 - val_loss: 1.5553 - val_accuracy: 0.3703\n",
            "Epoch 8/25\n",
            "1875/1875 [==============================] - 4s 2ms/step - loss: 1.5511 - accuracy: 0.3696 - val_loss: 1.5459 - val_accuracy: 0.3776\n",
            "Epoch 9/25\n",
            "1875/1875 [==============================] - 4s 2ms/step - loss: 1.5448 - accuracy: 0.3824 - val_loss: 1.5405 - val_accuracy: 0.3902\n",
            "Epoch 10/25\n",
            "1875/1875 [==============================] - 4s 2ms/step - loss: 1.5397 - accuracy: 0.3917 - val_loss: 1.5258 - val_accuracy: 0.3949\n",
            "Epoch 11/25\n",
            "1875/1875 [==============================] - 4s 2ms/step - loss: 1.5332 - accuracy: 0.3972 - val_loss: 1.5251 - val_accuracy: 0.4016\n",
            "Epoch 12/25\n",
            "1875/1875 [==============================] - 4s 2ms/step - loss: 1.5294 - accuracy: 0.4020 - val_loss: 1.5285 - val_accuracy: 0.3958\n",
            "Epoch 13/25\n",
            "1875/1875 [==============================] - 4s 2ms/step - loss: 1.5265 - accuracy: 0.4009 - val_loss: 1.5250 - val_accuracy: 0.4079\n",
            "Epoch 14/25\n",
            "1875/1875 [==============================] - 4s 2ms/step - loss: 1.5240 - accuracy: 0.4057 - val_loss: 1.5144 - val_accuracy: 0.4114\n",
            "Epoch 15/25\n",
            "1875/1875 [==============================] - 4s 2ms/step - loss: 1.5217 - accuracy: 0.4050 - val_loss: 1.5096 - val_accuracy: 0.4148\n",
            "Epoch 16/25\n",
            "1875/1875 [==============================] - 4s 2ms/step - loss: 1.5198 - accuracy: 0.4072 - val_loss: 1.5121 - val_accuracy: 0.4068\n",
            "Epoch 17/25\n",
            "1875/1875 [==============================] - 4s 2ms/step - loss: 1.5178 - accuracy: 0.4087 - val_loss: 1.5061 - val_accuracy: 0.4028\n",
            "Epoch 18/25\n",
            "1875/1875 [==============================] - 4s 2ms/step - loss: 1.5140 - accuracy: 0.4078 - val_loss: 1.5009 - val_accuracy: 0.4150\n",
            "Epoch 19/25\n",
            "1875/1875 [==============================] - 4s 2ms/step - loss: 1.5127 - accuracy: 0.4078 - val_loss: 1.5004 - val_accuracy: 0.4096\n",
            "Epoch 20/25\n",
            "1875/1875 [==============================] - 4s 2ms/step - loss: 1.5107 - accuracy: 0.4076 - val_loss: 1.5116 - val_accuracy: 0.4054\n",
            "Epoch 21/25\n",
            "1875/1875 [==============================] - 4s 2ms/step - loss: 1.5088 - accuracy: 0.4071 - val_loss: 1.5004 - val_accuracy: 0.4108\n",
            "Epoch 22/25\n",
            "1875/1875 [==============================] - 4s 2ms/step - loss: 1.5071 - accuracy: 0.4093 - val_loss: 1.5162 - val_accuracy: 0.4020\n",
            "Epoch 23/25\n",
            "1875/1875 [==============================] - 4s 2ms/step - loss: 1.5057 - accuracy: 0.4089 - val_loss: 1.5217 - val_accuracy: 0.3992\n",
            "Epoch 24/25\n",
            "1875/1875 [==============================] - 4s 2ms/step - loss: 1.5039 - accuracy: 0.4108 - val_loss: 1.5042 - val_accuracy: 0.4081\n",
            "Epoch 25/25\n",
            "1875/1875 [==============================] - 4s 2ms/step - loss: 1.5034 - accuracy: 0.4094 - val_loss: 1.5162 - val_accuracy: 0.4001\n"
          ],
          "name": "stdout"
        }
      ]
    },
    {
      "cell_type": "markdown",
      "metadata": {
        "id": "IQZ4SZdKNMRO"
      },
      "source": [
        "### High Learning Rate"
      ]
    },
    {
      "cell_type": "code",
      "metadata": {
        "id": "Ny72mU_dNWMR",
        "colab": {
          "base_uri": "https://localhost:8080/"
        },
        "outputId": "87d918fa-fa37-439f-f721-6e286548feb8"
      },
      "source": [
        "lr_high = create_model(lr=.75).fit(X_train, y_train,\n",
        "                                epochs=25,\n",
        "                                validation_data=(X_test,y_test)\n",
        ")"
      ],
      "execution_count": 19,
      "outputs": [
        {
          "output_type": "stream",
          "text": [
            "Epoch 1/25\n",
            "1870/1875 [============================>.] - ETA: 0s - loss: 2.2642 - accuracy: 0.1210WARNING:tensorflow:Callbacks method `on_test_batch_end` is slow compared to the batch time (batch time: 0.0019s vs `on_test_batch_end` time: 0.0037s). Check your callbacks.\n",
            "1875/1875 [==============================] - 4s 2ms/step - loss: 2.2643 - accuracy: 0.1211 - val_loss: 2.3051 - val_accuracy: 0.1028\n",
            "Epoch 2/25\n",
            "1875/1875 [==============================] - 4s 2ms/step - loss: 2.3068 - accuracy: 0.1041 - val_loss: 2.3059 - val_accuracy: 0.1009\n",
            "Epoch 3/25\n",
            "1875/1875 [==============================] - 4s 2ms/step - loss: 2.3066 - accuracy: 0.1062 - val_loss: 2.3060 - val_accuracy: 0.1135\n",
            "Epoch 4/25\n",
            "1875/1875 [==============================] - 4s 2ms/step - loss: 2.3071 - accuracy: 0.1052 - val_loss: 2.3024 - val_accuracy: 0.1010\n",
            "Epoch 5/25\n",
            "1875/1875 [==============================] - 4s 2ms/step - loss: 2.3068 - accuracy: 0.1052 - val_loss: 2.3072 - val_accuracy: 0.1032\n",
            "Epoch 6/25\n",
            "1875/1875 [==============================] - 4s 2ms/step - loss: 2.3065 - accuracy: 0.1060 - val_loss: 2.3045 - val_accuracy: 0.1009\n",
            "Epoch 7/25\n",
            "1875/1875 [==============================] - 4s 2ms/step - loss: 2.3070 - accuracy: 0.1039 - val_loss: 2.3098 - val_accuracy: 0.1135\n",
            "Epoch 8/25\n",
            "1875/1875 [==============================] - 4s 2ms/step - loss: 2.3068 - accuracy: 0.1020 - val_loss: 2.3056 - val_accuracy: 0.1032\n",
            "Epoch 9/25\n",
            "1875/1875 [==============================] - 4s 2ms/step - loss: 2.3068 - accuracy: 0.1065 - val_loss: 2.3047 - val_accuracy: 0.1135\n",
            "Epoch 10/25\n",
            "1875/1875 [==============================] - 4s 2ms/step - loss: 2.3065 - accuracy: 0.1059 - val_loss: 2.3056 - val_accuracy: 0.1135\n",
            "Epoch 11/25\n",
            "1875/1875 [==============================] - 4s 2ms/step - loss: 2.3064 - accuracy: 0.1043 - val_loss: 2.3042 - val_accuracy: 0.0974\n",
            "Epoch 12/25\n",
            "1875/1875 [==============================] - 4s 2ms/step - loss: 2.3071 - accuracy: 0.1036 - val_loss: 2.3053 - val_accuracy: 0.1135\n",
            "Epoch 13/25\n",
            "1875/1875 [==============================] - 4s 2ms/step - loss: 2.3066 - accuracy: 0.1050 - val_loss: 2.3072 - val_accuracy: 0.1010\n",
            "Epoch 14/25\n",
            "1875/1875 [==============================] - 4s 2ms/step - loss: 2.3070 - accuracy: 0.1049 - val_loss: 2.3058 - val_accuracy: 0.1009\n",
            "Epoch 15/25\n",
            "1875/1875 [==============================] - 4s 2ms/step - loss: 2.3067 - accuracy: 0.1075 - val_loss: 2.3096 - val_accuracy: 0.1032\n",
            "Epoch 16/25\n",
            "1875/1875 [==============================] - 4s 2ms/step - loss: 2.3067 - accuracy: 0.1046 - val_loss: 2.3073 - val_accuracy: 0.1032\n",
            "Epoch 17/25\n",
            "1875/1875 [==============================] - 4s 2ms/step - loss: 2.3064 - accuracy: 0.1065 - val_loss: 2.3050 - val_accuracy: 0.0974\n",
            "Epoch 18/25\n",
            "1875/1875 [==============================] - 4s 2ms/step - loss: 2.3068 - accuracy: 0.1059 - val_loss: 2.3029 - val_accuracy: 0.1135\n",
            "Epoch 19/25\n",
            "1875/1875 [==============================] - 4s 2ms/step - loss: 2.3067 - accuracy: 0.1050 - val_loss: 2.3044 - val_accuracy: 0.1032\n",
            "Epoch 20/25\n",
            "1875/1875 [==============================] - 4s 2ms/step - loss: 2.3065 - accuracy: 0.1050 - val_loss: 2.3066 - val_accuracy: 0.1009\n",
            "Epoch 21/25\n",
            "1875/1875 [==============================] - 4s 2ms/step - loss: 2.3068 - accuracy: 0.1053 - val_loss: 2.3043 - val_accuracy: 0.1010\n",
            "Epoch 22/25\n",
            "1875/1875 [==============================] - 4s 2ms/step - loss: 2.3065 - accuracy: 0.1049 - val_loss: 2.3056 - val_accuracy: 0.1135\n",
            "Epoch 23/25\n",
            "1875/1875 [==============================] - 4s 2ms/step - loss: 2.3068 - accuracy: 0.1031 - val_loss: 2.3054 - val_accuracy: 0.1135\n",
            "Epoch 24/25\n",
            "1875/1875 [==============================] - 4s 2ms/step - loss: 2.3068 - accuracy: 0.1044 - val_loss: 2.3070 - val_accuracy: 0.1135\n",
            "Epoch 25/25\n",
            "1875/1875 [==============================] - 4s 2ms/step - loss: 2.3067 - accuracy: 0.1012 - val_loss: 2.3065 - val_accuracy: 0.1010\n"
          ],
          "name": "stdout"
        }
      ]
    },
    {
      "cell_type": "markdown",
      "metadata": {
        "id": "kAqDmTVBNSMR"
      },
      "source": [
        "### Low Learning Rate"
      ]
    },
    {
      "cell_type": "code",
      "metadata": {
        "id": "Ech1ER64NXBn",
        "colab": {
          "base_uri": "https://localhost:8080/"
        },
        "outputId": "a6b0756e-60d0-43fe-de07-e1ad1569e12b"
      },
      "source": [
        "lr_low = create_model(lr=.0001).fit(X_train, y_train,\n",
        "                                epochs=50,\n",
        "                                validation_data=(X_test,y_test)\n",
        ")"
      ],
      "execution_count": 20,
      "outputs": [
        {
          "output_type": "stream",
          "text": [
            "Epoch 1/50\n",
            "1875/1875 [==============================] - 4s 2ms/step - loss: 2.2936 - accuracy: 0.0518 - val_loss: 2.2900 - val_accuracy: 0.0565\n",
            "Epoch 2/50\n",
            "1875/1875 [==============================] - 4s 2ms/step - loss: 2.2865 - accuracy: 0.0604 - val_loss: 2.2818 - val_accuracy: 0.0724\n",
            "Epoch 3/50\n",
            "1875/1875 [==============================] - 4s 2ms/step - loss: 2.2780 - accuracy: 0.0758 - val_loss: 2.2727 - val_accuracy: 0.0880\n",
            "Epoch 4/50\n",
            "1875/1875 [==============================] - 4s 2ms/step - loss: 2.2691 - accuracy: 0.0885 - val_loss: 2.2634 - val_accuracy: 0.0951\n",
            "Epoch 5/50\n",
            "1875/1875 [==============================] - 4s 2ms/step - loss: 2.2599 - accuracy: 0.1159 - val_loss: 2.2539 - val_accuracy: 0.1365\n",
            "Epoch 6/50\n",
            "1875/1875 [==============================] - 4s 2ms/step - loss: 2.2506 - accuracy: 0.1396 - val_loss: 2.2443 - val_accuracy: 0.1414\n",
            "Epoch 7/50\n",
            "1875/1875 [==============================] - 4s 2ms/step - loss: 2.2411 - accuracy: 0.1445 - val_loss: 2.2345 - val_accuracy: 0.1460\n",
            "Epoch 8/50\n",
            "1875/1875 [==============================] - 4s 2ms/step - loss: 2.2313 - accuracy: 0.1481 - val_loss: 2.2243 - val_accuracy: 0.1505\n",
            "Epoch 9/50\n",
            "1875/1875 [==============================] - 4s 2ms/step - loss: 2.2214 - accuracy: 0.1528 - val_loss: 2.2141 - val_accuracy: 0.1543\n",
            "Epoch 10/50\n",
            "1875/1875 [==============================] - 4s 2ms/step - loss: 2.2114 - accuracy: 0.1544 - val_loss: 2.2037 - val_accuracy: 0.1563\n",
            "Epoch 11/50\n",
            "1875/1875 [==============================] - 4s 2ms/step - loss: 2.2013 - accuracy: 0.1559 - val_loss: 2.1933 - val_accuracy: 0.1591\n",
            "Epoch 12/50\n",
            "1875/1875 [==============================] - 4s 2ms/step - loss: 2.1911 - accuracy: 0.1534 - val_loss: 2.1830 - val_accuracy: 0.1558\n",
            "Epoch 13/50\n",
            "1875/1875 [==============================] - 4s 2ms/step - loss: 2.1812 - accuracy: 0.1440 - val_loss: 2.1728 - val_accuracy: 0.1552\n",
            "Epoch 14/50\n",
            "1875/1875 [==============================] - 4s 2ms/step - loss: 2.1714 - accuracy: 0.1726 - val_loss: 2.1629 - val_accuracy: 0.1859\n",
            "Epoch 15/50\n",
            "1875/1875 [==============================] - 4s 2ms/step - loss: 2.1618 - accuracy: 0.1821 - val_loss: 2.1533 - val_accuracy: 0.1885\n",
            "Epoch 16/50\n",
            "1875/1875 [==============================] - 4s 2ms/step - loss: 2.1527 - accuracy: 0.1849 - val_loss: 2.1441 - val_accuracy: 0.1909\n",
            "Epoch 17/50\n",
            "1875/1875 [==============================] - 4s 2ms/step - loss: 2.1439 - accuracy: 0.1871 - val_loss: 2.1352 - val_accuracy: 0.1934\n",
            "Epoch 18/50\n",
            "1875/1875 [==============================] - 4s 2ms/step - loss: 2.1355 - accuracy: 0.1893 - val_loss: 2.1268 - val_accuracy: 0.1952\n",
            "Epoch 19/50\n",
            "1875/1875 [==============================] - 4s 2ms/step - loss: 2.1275 - accuracy: 0.1913 - val_loss: 2.1189 - val_accuracy: 0.1979\n",
            "Epoch 20/50\n",
            "1875/1875 [==============================] - 4s 2ms/step - loss: 2.1199 - accuracy: 0.1931 - val_loss: 2.1113 - val_accuracy: 0.1989\n",
            "Epoch 21/50\n",
            "1875/1875 [==============================] - 4s 2ms/step - loss: 2.1127 - accuracy: 0.1951 - val_loss: 2.1041 - val_accuracy: 0.2008\n",
            "Epoch 22/50\n",
            "1875/1875 [==============================] - 4s 2ms/step - loss: 2.1058 - accuracy: 0.1970 - val_loss: 2.0973 - val_accuracy: 0.2027\n",
            "Epoch 23/50\n",
            "1875/1875 [==============================] - 4s 2ms/step - loss: 2.0993 - accuracy: 0.1991 - val_loss: 2.0908 - val_accuracy: 0.2038\n",
            "Epoch 24/50\n",
            "1875/1875 [==============================] - 4s 2ms/step - loss: 2.0931 - accuracy: 0.2004 - val_loss: 2.0846 - val_accuracy: 0.2056\n",
            "Epoch 25/50\n",
            "1875/1875 [==============================] - 4s 2ms/step - loss: 2.0872 - accuracy: 0.2017 - val_loss: 2.0786 - val_accuracy: 0.2076\n",
            "Epoch 26/50\n",
            "1875/1875 [==============================] - 4s 2ms/step - loss: 2.0815 - accuracy: 0.2032 - val_loss: 2.0729 - val_accuracy: 0.2090\n",
            "Epoch 27/50\n",
            "1875/1875 [==============================] - 4s 2ms/step - loss: 2.0761 - accuracy: 0.2045 - val_loss: 2.0675 - val_accuracy: 0.2098\n",
            "Epoch 28/50\n",
            "1875/1875 [==============================] - 4s 2ms/step - loss: 2.0708 - accuracy: 0.2056 - val_loss: 2.0622 - val_accuracy: 0.2114\n",
            "Epoch 29/50\n",
            "1875/1875 [==============================] - 4s 2ms/step - loss: 2.0657 - accuracy: 0.2067 - val_loss: 2.0571 - val_accuracy: 0.2128\n",
            "Epoch 30/50\n",
            "1875/1875 [==============================] - 4s 2ms/step - loss: 2.0608 - accuracy: 0.2083 - val_loss: 2.0522 - val_accuracy: 0.2135\n",
            "Epoch 31/50\n",
            "1875/1875 [==============================] - 4s 2ms/step - loss: 2.0560 - accuracy: 0.2090 - val_loss: 2.0474 - val_accuracy: 0.2149\n",
            "Epoch 32/50\n",
            "1875/1875 [==============================] - 4s 2ms/step - loss: 2.0514 - accuracy: 0.2100 - val_loss: 2.0428 - val_accuracy: 0.2162\n",
            "Epoch 33/50\n",
            "1875/1875 [==============================] - 4s 2ms/step - loss: 2.0469 - accuracy: 0.2110 - val_loss: 2.0383 - val_accuracy: 0.2172\n",
            "Epoch 34/50\n",
            "1875/1875 [==============================] - 4s 2ms/step - loss: 2.0426 - accuracy: 0.2120 - val_loss: 2.0340 - val_accuracy: 0.2180\n",
            "Epoch 35/50\n",
            "1875/1875 [==============================] - 4s 2ms/step - loss: 2.0383 - accuracy: 0.2131 - val_loss: 2.0298 - val_accuracy: 0.2191\n",
            "Epoch 36/50\n",
            "1875/1875 [==============================] - 4s 2ms/step - loss: 2.0342 - accuracy: 0.2138 - val_loss: 2.0257 - val_accuracy: 0.2205\n",
            "Epoch 37/50\n",
            "1875/1875 [==============================] - 4s 2ms/step - loss: 2.0301 - accuracy: 0.2149 - val_loss: 2.0217 - val_accuracy: 0.2214\n",
            "Epoch 38/50\n",
            "1875/1875 [==============================] - 4s 2ms/step - loss: 2.0262 - accuracy: 0.2160 - val_loss: 2.0178 - val_accuracy: 0.2221\n",
            "Epoch 39/50\n",
            "1875/1875 [==============================] - 4s 2ms/step - loss: 2.0224 - accuracy: 0.2169 - val_loss: 2.0141 - val_accuracy: 0.2233\n",
            "Epoch 40/50\n",
            "1875/1875 [==============================] - 4s 2ms/step - loss: 2.0187 - accuracy: 0.2178 - val_loss: 2.0104 - val_accuracy: 0.2245\n",
            "Epoch 41/50\n",
            "1875/1875 [==============================] - 4s 2ms/step - loss: 2.0150 - accuracy: 0.2183 - val_loss: 2.0068 - val_accuracy: 0.2259\n",
            "Epoch 42/50\n",
            "1875/1875 [==============================] - 4s 2ms/step - loss: 2.0114 - accuracy: 0.2194 - val_loss: 2.0034 - val_accuracy: 0.2270\n",
            "Epoch 43/50\n",
            "1875/1875 [==============================] - 4s 2ms/step - loss: 2.0080 - accuracy: 0.2208 - val_loss: 2.0000 - val_accuracy: 0.2279\n",
            "Epoch 44/50\n",
            "1875/1875 [==============================] - 4s 2ms/step - loss: 2.0046 - accuracy: 0.2214 - val_loss: 1.9967 - val_accuracy: 0.2291\n",
            "Epoch 45/50\n",
            "1875/1875 [==============================] - 5s 2ms/step - loss: 2.0013 - accuracy: 0.2224 - val_loss: 1.9934 - val_accuracy: 0.2296\n",
            "Epoch 46/50\n",
            "1875/1875 [==============================] - 5s 2ms/step - loss: 1.9980 - accuracy: 0.2232 - val_loss: 1.9903 - val_accuracy: 0.2301\n",
            "Epoch 47/50\n",
            "1875/1875 [==============================] - 4s 2ms/step - loss: 1.9948 - accuracy: 0.2241 - val_loss: 1.9872 - val_accuracy: 0.2308\n",
            "Epoch 48/50\n",
            "1875/1875 [==============================] - 4s 2ms/step - loss: 1.9917 - accuracy: 0.2252 - val_loss: 1.9842 - val_accuracy: 0.2315\n",
            "Epoch 49/50\n",
            "1875/1875 [==============================] - 4s 2ms/step - loss: 1.9887 - accuracy: 0.2257 - val_loss: 1.9812 - val_accuracy: 0.2325\n",
            "Epoch 50/50\n",
            "1875/1875 [==============================] - 4s 2ms/step - loss: 1.9857 - accuracy: 0.2266 - val_loss: 1.9783 - val_accuracy: 0.2336\n"
          ],
          "name": "stdout"
        }
      ]
    },
    {
      "cell_type": "markdown",
      "metadata": {
        "id": "sZe6DyhANXdU"
      },
      "source": [
        "### Visualization of Results"
      ]
    },
    {
      "cell_type": "code",
      "metadata": {
        "id": "Bn-BdFdMNph-",
        "colab": {
          "base_uri": "https://localhost:8080/",
          "height": 197
        },
        "outputId": "fd5814ff-c922-4e6a-94b3-e48cd69d83cd"
      },
      "source": [
        "import seaborn as sns\n",
        "import pandas as pd\n",
        "\n",
        "batch_sizes = []\n",
        "\n",
        "for exp, result in zip([lr_default, lr_low, lr_high], [\".01_\", \".0001_\", \".75_\"]):\n",
        "\n",
        "  df = pd.DataFrame.from_dict(exp.history)\n",
        "  df['epoch'] = df.index.values\n",
        "  df['Learning Rate'] = result\n",
        "\n",
        "  batch_sizes.append(df)\n",
        "\n",
        "df = pd.concat(batch_sizes)\n",
        "df['Learning Rate'] = df['Learning Rate'].astype('str')\n",
        "df.head()"
      ],
      "execution_count": 21,
      "outputs": [
        {
          "output_type": "execute_result",
          "data": {
            "text/html": [
              "<div>\n",
              "<style scoped>\n",
              "    .dataframe tbody tr th:only-of-type {\n",
              "        vertical-align: middle;\n",
              "    }\n",
              "\n",
              "    .dataframe tbody tr th {\n",
              "        vertical-align: top;\n",
              "    }\n",
              "\n",
              "    .dataframe thead th {\n",
              "        text-align: right;\n",
              "    }\n",
              "</style>\n",
              "<table border=\"1\" class=\"dataframe\">\n",
              "  <thead>\n",
              "    <tr style=\"text-align: right;\">\n",
              "      <th></th>\n",
              "      <th>loss</th>\n",
              "      <th>accuracy</th>\n",
              "      <th>val_loss</th>\n",
              "      <th>val_accuracy</th>\n",
              "      <th>epoch</th>\n",
              "      <th>Learning Rate</th>\n",
              "    </tr>\n",
              "  </thead>\n",
              "  <tbody>\n",
              "    <tr>\n",
              "      <th>0</th>\n",
              "      <td>2.046197</td>\n",
              "      <td>0.213050</td>\n",
              "      <td>1.916024</td>\n",
              "      <td>0.2421</td>\n",
              "      <td>0</td>\n",
              "      <td>.01_</td>\n",
              "    </tr>\n",
              "    <tr>\n",
              "      <th>1</th>\n",
              "      <td>1.865146</td>\n",
              "      <td>0.260883</td>\n",
              "      <td>1.818608</td>\n",
              "      <td>0.2664</td>\n",
              "      <td>1</td>\n",
              "      <td>.01_</td>\n",
              "    </tr>\n",
              "    <tr>\n",
              "      <th>2</th>\n",
              "      <td>1.743393</td>\n",
              "      <td>0.288517</td>\n",
              "      <td>1.681865</td>\n",
              "      <td>0.3231</td>\n",
              "      <td>2</td>\n",
              "      <td>.01_</td>\n",
              "    </tr>\n",
              "    <tr>\n",
              "      <th>3</th>\n",
              "      <td>1.636612</td>\n",
              "      <td>0.325033</td>\n",
              "      <td>1.615326</td>\n",
              "      <td>0.3442</td>\n",
              "      <td>3</td>\n",
              "      <td>.01_</td>\n",
              "    </tr>\n",
              "    <tr>\n",
              "      <th>4</th>\n",
              "      <td>1.590436</td>\n",
              "      <td>0.347983</td>\n",
              "      <td>1.576946</td>\n",
              "      <td>0.3480</td>\n",
              "      <td>4</td>\n",
              "      <td>.01_</td>\n",
              "    </tr>\n",
              "  </tbody>\n",
              "</table>\n",
              "</div>"
            ],
            "text/plain": [
              "       loss  accuracy  val_loss  val_accuracy  epoch Learning Rate\n",
              "0  2.046197  0.213050  1.916024        0.2421      0          .01_\n",
              "1  1.865146  0.260883  1.818608        0.2664      1          .01_\n",
              "2  1.743393  0.288517  1.681865        0.3231      2          .01_\n",
              "3  1.636612  0.325033  1.615326        0.3442      3          .01_\n",
              "4  1.590436  0.347983  1.576946        0.3480      4          .01_"
            ]
          },
          "metadata": {
            "tags": []
          },
          "execution_count": 21
        }
      ]
    },
    {
      "cell_type": "code",
      "metadata": {
        "colab": {
          "base_uri": "https://localhost:8080/",
          "height": 278
        },
        "id": "1FeUgh9legf3",
        "outputId": "b7826960-1d05-4a47-edf3-074431fde9fa"
      },
      "source": [
        "sns.lineplot(x='epoch', y='val_loss', hue='Learning Rate', data=df);"
      ],
      "execution_count": 22,
      "outputs": [
        {
          "output_type": "display_data",
          "data": {
            "image/png": "[encoded data removed]",
            "text/plain": [
              "<Figure size 432x288 with 1 Axes>"
            ]
          },
          "metadata": {
            "tags": [],
            "needs_background": "light"
          }
        }
      ]
    },
    {
      "cell_type": "code",
      "metadata": {
        "colab": {
          "base_uri": "https://localhost:8080/",
          "height": 278
        },
        "id": "jFxwVPq8ehfG",
        "outputId": "96c3bee0-af0e-49c7-c799-abcc9734d0c8"
      },
      "source": [
        "sns.lineplot(x='epoch', y='val_accuracy', hue='Learning Rate', data=df);"
      ],
      "execution_count": 23,
      "outputs": [
        {
          "output_type": "display_data",
          "data": {
            "image/png": "[encoded data removed]",
            "text/plain": [
              "<Figure size 432x288 with 1 Axes>"
            ]
          },
          "metadata": {
            "tags": [],
            "needs_background": "light"
          }
        }
      ]
    },
    {
      "cell_type": "markdown",
      "metadata": {
        "id": "Kb2aiw_Sgcl7"
      },
      "source": [
        "## Challenge\n",
        "\n",
        "You will be expected to experiment with different learning rates today.\n",
        "\n",
        "---"
      ]
    },
    {
      "cell_type": "code",
      "metadata": {
        "id": "ADVnBP6Xe4x8"
      },
      "source": [
        "# Bonus\n",
        "# How do I know if my 'net is overfit?\n",
        "# Compare train & val \n",
        "# Either use loss or a metric like accuracy\n",
        "# Big difference points to overfitting"
      ],
      "execution_count": null,
      "outputs": []
    },
    {
      "cell_type": "code",
      "metadata": {
        "colab": {
          "base_uri": "https://localhost:8080/",
          "height": 278
        },
        "id": "1MNK-8JIe8eC",
        "outputId": "c0aaacbc-5735-4ee3-a643-66e624a90396"
      },
      "source": [
        "sns.lineplot(x='epoch', y='val_loss', data=df[df['Learning Rate']=='.01_'], label=\"test_loss\")\n",
        "sns.lineplot(x='epoch', y='loss', data=df[df['Learning Rate']=='.01_'], label=\"train_loss\");"
      ],
      "execution_count": 24,
      "outputs": [
        {
          "output_type": "display_data",
          "data": {
            "image/png": "[encoded data removed]",
            "text/plain": [
              "<Figure size 432x288 with 1 Axes>"
            ]
          },
          "metadata": {
            "tags": [],
            "needs_background": "light"
          }
        }
      ]
    },
    {
      "cell_type": "code",
      "metadata": {
        "colab": {
          "base_uri": "https://localhost:8080/",
          "height": 283
        },
        "id": "_Zp3LVgye_GM",
        "outputId": "4c248f7a-2cb6-4a8b-ebeb-b864e9200fec"
      },
      "source": [
        "sns.lineplot(x='epoch', y='val_accuracy', data=df[df['Learning Rate']=='.01_'], label = \"test accuracy\")\n",
        "sns.lineplot(x='epoch', y='accuracy', data=df[df['Learning Rate']=='.01_'], label = \"train accuracy\");"
      ],
      "execution_count": 26,
      "outputs": [
        {
          "output_type": "display_data",
          "data": {
            "image/png": "[encoded data removed]",
            "text/plain": [
              "<Figure size 432x288 with 1 Axes>"
            ]
          },
          "metadata": {
            "tags": [],
            "needs_background": "light"
          }
        }
      ]
    },
    {
      "cell_type": "code",
      "metadata": {
        "id": "TcYOsBr3hld5"
      },
      "source": [
        ""
      ],
      "execution_count": null,
      "outputs": []
    }
  ]
}